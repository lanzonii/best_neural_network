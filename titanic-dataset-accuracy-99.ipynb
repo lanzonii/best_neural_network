{
 "cells": [
  {
   "cell_type": "code",
   "execution_count": 41,
   "metadata": {
    "_cell_guid": "b1076dfc-b9ad-4769-8c92-a6c4dae69d19",
    "_uuid": "8f2839f25d086af736a60e9eeb907d3b93b6e0e5",
    "trusted": true
   },
   "outputs": [],
   "source": [
    "# This Python 3 environment comes with many helpful analytics libraries installed\n",
    "# It is defined by the kaggle/python Docker image: https://github.com/kaggle/docker-python\n",
    "# For example, here's several helpful packages to load\n",
    "\n",
    "import numpy as np # linear algebra\n",
    "import pandas as pd # data processing, CSV file I/O (e.g. pd.read_csv)\n",
    "\n",
    "\n",
    "# Input data files are available in the read-only \"../input/\" directory\n",
    "# For example, running this (by clicking run or pressing Shift+Enter) will list all files under the input directory\n",
    "\n",
    "# You can write up to 5GB to the current directory (/kaggle/working/) that gets preserved as output when you create a version using \"Save & Run All\" \n",
    "# You can also write temporary files to /kaggle/temp/, but they won't be saved outside of the current session"
   ]
  },
  {
   "cell_type": "code",
   "execution_count": 42,
   "metadata": {
    "_cell_guid": "79c7e3d0-c299-4dcb-8224-4455121ee9b0",
    "_uuid": "d629ff2d2480ee46fbb7e2d37f6b5fab8052498a",
    "trusted": true
   },
   "outputs": [],
   "source": [
    "import numpy as np\n",
    "import pandas as pd\n",
    "import matplotlib.pyplot as plt\n",
    "import seaborn as sns\n",
    "from sklearn.model_selection import train_test_split"
   ]
  },
  {
   "cell_type": "code",
   "execution_count": 43,
   "metadata": {
    "trusted": true
   },
   "outputs": [],
   "source": [
    "df = sns.load_dataset(\"titanic\").drop(columns=['alive', 'deck'])"
   ]
  },
  {
   "cell_type": "code",
   "execution_count": 44,
   "metadata": {},
   "outputs": [],
   "source": [
    "train, test = train_test_split(df, test_size=0.2, random_state=42)"
   ]
  },
  {
   "cell_type": "code",
   "execution_count": 45,
   "metadata": {
    "trusted": true
   },
   "outputs": [],
   "source": [
    "X_test=test.drop(columns='survived')\n",
    "y_test=test[['survived']]"
   ]
  },
  {
   "cell_type": "markdown",
   "metadata": {},
   "source": [
    "We have already read the data and now its time for data preprocessing.Looking at the various mean values and also finding if there is any null value in our dataset and various other steps .\n"
   ]
  },
  {
   "cell_type": "code",
   "execution_count": 46,
   "metadata": {
    "trusted": true
   },
   "outputs": [
    {
     "data": {
      "text/html": [
       "<div>\n",
       "<style scoped>\n",
       "    .dataframe tbody tr th:only-of-type {\n",
       "        vertical-align: middle;\n",
       "    }\n",
       "\n",
       "    .dataframe tbody tr th {\n",
       "        vertical-align: top;\n",
       "    }\n",
       "\n",
       "    .dataframe thead th {\n",
       "        text-align: right;\n",
       "    }\n",
       "</style>\n",
       "<table border=\"1\" class=\"dataframe\">\n",
       "  <thead>\n",
       "    <tr style=\"text-align: right;\">\n",
       "      <th></th>\n",
       "      <th>survived</th>\n",
       "      <th>pclass</th>\n",
       "      <th>age</th>\n",
       "      <th>sibsp</th>\n",
       "      <th>parch</th>\n",
       "      <th>fare</th>\n",
       "    </tr>\n",
       "  </thead>\n",
       "  <tbody>\n",
       "    <tr>\n",
       "      <th>count</th>\n",
       "      <td>712.000000</td>\n",
       "      <td>712.000000</td>\n",
       "      <td>572.000000</td>\n",
       "      <td>712.000000</td>\n",
       "      <td>712.000000</td>\n",
       "      <td>712.000000</td>\n",
       "    </tr>\n",
       "    <tr>\n",
       "      <th>mean</th>\n",
       "      <td>0.376404</td>\n",
       "      <td>2.330056</td>\n",
       "      <td>29.498846</td>\n",
       "      <td>0.553371</td>\n",
       "      <td>0.379213</td>\n",
       "      <td>32.586276</td>\n",
       "    </tr>\n",
       "    <tr>\n",
       "      <th>std</th>\n",
       "      <td>0.484824</td>\n",
       "      <td>0.824584</td>\n",
       "      <td>14.500059</td>\n",
       "      <td>1.176404</td>\n",
       "      <td>0.791669</td>\n",
       "      <td>51.969529</td>\n",
       "    </tr>\n",
       "    <tr>\n",
       "      <th>min</th>\n",
       "      <td>0.000000</td>\n",
       "      <td>1.000000</td>\n",
       "      <td>0.420000</td>\n",
       "      <td>0.000000</td>\n",
       "      <td>0.000000</td>\n",
       "      <td>0.000000</td>\n",
       "    </tr>\n",
       "    <tr>\n",
       "      <th>25%</th>\n",
       "      <td>0.000000</td>\n",
       "      <td>2.000000</td>\n",
       "      <td>21.000000</td>\n",
       "      <td>0.000000</td>\n",
       "      <td>0.000000</td>\n",
       "      <td>7.925000</td>\n",
       "    </tr>\n",
       "    <tr>\n",
       "      <th>50%</th>\n",
       "      <td>0.000000</td>\n",
       "      <td>3.000000</td>\n",
       "      <td>28.000000</td>\n",
       "      <td>0.000000</td>\n",
       "      <td>0.000000</td>\n",
       "      <td>14.454200</td>\n",
       "    </tr>\n",
       "    <tr>\n",
       "      <th>75%</th>\n",
       "      <td>1.000000</td>\n",
       "      <td>3.000000</td>\n",
       "      <td>38.000000</td>\n",
       "      <td>1.000000</td>\n",
       "      <td>0.000000</td>\n",
       "      <td>30.500000</td>\n",
       "    </tr>\n",
       "    <tr>\n",
       "      <th>max</th>\n",
       "      <td>1.000000</td>\n",
       "      <td>3.000000</td>\n",
       "      <td>80.000000</td>\n",
       "      <td>8.000000</td>\n",
       "      <td>6.000000</td>\n",
       "      <td>512.329200</td>\n",
       "    </tr>\n",
       "  </tbody>\n",
       "</table>\n",
       "</div>"
      ],
      "text/plain": [
       "         survived      pclass         age       sibsp       parch        fare\n",
       "count  712.000000  712.000000  572.000000  712.000000  712.000000  712.000000\n",
       "mean     0.376404    2.330056   29.498846    0.553371    0.379213   32.586276\n",
       "std      0.484824    0.824584   14.500059    1.176404    0.791669   51.969529\n",
       "min      0.000000    1.000000    0.420000    0.000000    0.000000    0.000000\n",
       "25%      0.000000    2.000000   21.000000    0.000000    0.000000    7.925000\n",
       "50%      0.000000    3.000000   28.000000    0.000000    0.000000   14.454200\n",
       "75%      1.000000    3.000000   38.000000    1.000000    0.000000   30.500000\n",
       "max      1.000000    3.000000   80.000000    8.000000    6.000000  512.329200"
      ]
     },
     "execution_count": 46,
     "metadata": {},
     "output_type": "execute_result"
    }
   ],
   "source": [
    "train.describe()"
   ]
  },
  {
   "cell_type": "code",
   "execution_count": 47,
   "metadata": {
    "trusted": true
   },
   "outputs": [
    {
     "data": {
      "text/html": [
       "<div>\n",
       "<style scoped>\n",
       "    .dataframe tbody tr th:only-of-type {\n",
       "        vertical-align: middle;\n",
       "    }\n",
       "\n",
       "    .dataframe tbody tr th {\n",
       "        vertical-align: top;\n",
       "    }\n",
       "\n",
       "    .dataframe thead th {\n",
       "        text-align: right;\n",
       "    }\n",
       "</style>\n",
       "<table border=\"1\" class=\"dataframe\">\n",
       "  <thead>\n",
       "    <tr style=\"text-align: right;\">\n",
       "      <th></th>\n",
       "      <th>survived</th>\n",
       "      <th>pclass</th>\n",
       "      <th>sex</th>\n",
       "      <th>age</th>\n",
       "      <th>sibsp</th>\n",
       "      <th>parch</th>\n",
       "      <th>fare</th>\n",
       "      <th>embarked</th>\n",
       "      <th>class</th>\n",
       "      <th>who</th>\n",
       "      <th>adult_male</th>\n",
       "      <th>embark_town</th>\n",
       "      <th>alone</th>\n",
       "    </tr>\n",
       "  </thead>\n",
       "  <tbody>\n",
       "    <tr>\n",
       "      <th>331</th>\n",
       "      <td>False</td>\n",
       "      <td>False</td>\n",
       "      <td>False</td>\n",
       "      <td>False</td>\n",
       "      <td>False</td>\n",
       "      <td>False</td>\n",
       "      <td>False</td>\n",
       "      <td>False</td>\n",
       "      <td>False</td>\n",
       "      <td>False</td>\n",
       "      <td>False</td>\n",
       "      <td>False</td>\n",
       "      <td>False</td>\n",
       "    </tr>\n",
       "    <tr>\n",
       "      <th>733</th>\n",
       "      <td>False</td>\n",
       "      <td>False</td>\n",
       "      <td>False</td>\n",
       "      <td>False</td>\n",
       "      <td>False</td>\n",
       "      <td>False</td>\n",
       "      <td>False</td>\n",
       "      <td>False</td>\n",
       "      <td>False</td>\n",
       "      <td>False</td>\n",
       "      <td>False</td>\n",
       "      <td>False</td>\n",
       "      <td>False</td>\n",
       "    </tr>\n",
       "    <tr>\n",
       "      <th>382</th>\n",
       "      <td>False</td>\n",
       "      <td>False</td>\n",
       "      <td>False</td>\n",
       "      <td>False</td>\n",
       "      <td>False</td>\n",
       "      <td>False</td>\n",
       "      <td>False</td>\n",
       "      <td>False</td>\n",
       "      <td>False</td>\n",
       "      <td>False</td>\n",
       "      <td>False</td>\n",
       "      <td>False</td>\n",
       "      <td>False</td>\n",
       "    </tr>\n",
       "    <tr>\n",
       "      <th>704</th>\n",
       "      <td>False</td>\n",
       "      <td>False</td>\n",
       "      <td>False</td>\n",
       "      <td>False</td>\n",
       "      <td>False</td>\n",
       "      <td>False</td>\n",
       "      <td>False</td>\n",
       "      <td>False</td>\n",
       "      <td>False</td>\n",
       "      <td>False</td>\n",
       "      <td>False</td>\n",
       "      <td>False</td>\n",
       "      <td>False</td>\n",
       "    </tr>\n",
       "    <tr>\n",
       "      <th>813</th>\n",
       "      <td>False</td>\n",
       "      <td>False</td>\n",
       "      <td>False</td>\n",
       "      <td>False</td>\n",
       "      <td>False</td>\n",
       "      <td>False</td>\n",
       "      <td>False</td>\n",
       "      <td>False</td>\n",
       "      <td>False</td>\n",
       "      <td>False</td>\n",
       "      <td>False</td>\n",
       "      <td>False</td>\n",
       "      <td>False</td>\n",
       "    </tr>\n",
       "    <tr>\n",
       "      <th>...</th>\n",
       "      <td>...</td>\n",
       "      <td>...</td>\n",
       "      <td>...</td>\n",
       "      <td>...</td>\n",
       "      <td>...</td>\n",
       "      <td>...</td>\n",
       "      <td>...</td>\n",
       "      <td>...</td>\n",
       "      <td>...</td>\n",
       "      <td>...</td>\n",
       "      <td>...</td>\n",
       "      <td>...</td>\n",
       "      <td>...</td>\n",
       "    </tr>\n",
       "    <tr>\n",
       "      <th>106</th>\n",
       "      <td>False</td>\n",
       "      <td>False</td>\n",
       "      <td>False</td>\n",
       "      <td>False</td>\n",
       "      <td>False</td>\n",
       "      <td>False</td>\n",
       "      <td>False</td>\n",
       "      <td>False</td>\n",
       "      <td>False</td>\n",
       "      <td>False</td>\n",
       "      <td>False</td>\n",
       "      <td>False</td>\n",
       "      <td>False</td>\n",
       "    </tr>\n",
       "    <tr>\n",
       "      <th>270</th>\n",
       "      <td>False</td>\n",
       "      <td>False</td>\n",
       "      <td>False</td>\n",
       "      <td>True</td>\n",
       "      <td>False</td>\n",
       "      <td>False</td>\n",
       "      <td>False</td>\n",
       "      <td>False</td>\n",
       "      <td>False</td>\n",
       "      <td>False</td>\n",
       "      <td>False</td>\n",
       "      <td>False</td>\n",
       "      <td>False</td>\n",
       "    </tr>\n",
       "    <tr>\n",
       "      <th>860</th>\n",
       "      <td>False</td>\n",
       "      <td>False</td>\n",
       "      <td>False</td>\n",
       "      <td>False</td>\n",
       "      <td>False</td>\n",
       "      <td>False</td>\n",
       "      <td>False</td>\n",
       "      <td>False</td>\n",
       "      <td>False</td>\n",
       "      <td>False</td>\n",
       "      <td>False</td>\n",
       "      <td>False</td>\n",
       "      <td>False</td>\n",
       "    </tr>\n",
       "    <tr>\n",
       "      <th>435</th>\n",
       "      <td>False</td>\n",
       "      <td>False</td>\n",
       "      <td>False</td>\n",
       "      <td>False</td>\n",
       "      <td>False</td>\n",
       "      <td>False</td>\n",
       "      <td>False</td>\n",
       "      <td>False</td>\n",
       "      <td>False</td>\n",
       "      <td>False</td>\n",
       "      <td>False</td>\n",
       "      <td>False</td>\n",
       "      <td>False</td>\n",
       "    </tr>\n",
       "    <tr>\n",
       "      <th>102</th>\n",
       "      <td>False</td>\n",
       "      <td>False</td>\n",
       "      <td>False</td>\n",
       "      <td>False</td>\n",
       "      <td>False</td>\n",
       "      <td>False</td>\n",
       "      <td>False</td>\n",
       "      <td>False</td>\n",
       "      <td>False</td>\n",
       "      <td>False</td>\n",
       "      <td>False</td>\n",
       "      <td>False</td>\n",
       "      <td>False</td>\n",
       "    </tr>\n",
       "  </tbody>\n",
       "</table>\n",
       "<p>712 rows × 13 columns</p>\n",
       "</div>"
      ],
      "text/plain": [
       "     survived  pclass    sex    age  sibsp  parch   fare  embarked  class  \\\n",
       "331     False   False  False  False  False  False  False     False  False   \n",
       "733     False   False  False  False  False  False  False     False  False   \n",
       "382     False   False  False  False  False  False  False     False  False   \n",
       "704     False   False  False  False  False  False  False     False  False   \n",
       "813     False   False  False  False  False  False  False     False  False   \n",
       "..        ...     ...    ...    ...    ...    ...    ...       ...    ...   \n",
       "106     False   False  False  False  False  False  False     False  False   \n",
       "270     False   False  False   True  False  False  False     False  False   \n",
       "860     False   False  False  False  False  False  False     False  False   \n",
       "435     False   False  False  False  False  False  False     False  False   \n",
       "102     False   False  False  False  False  False  False     False  False   \n",
       "\n",
       "       who  adult_male  embark_town  alone  \n",
       "331  False       False        False  False  \n",
       "733  False       False        False  False  \n",
       "382  False       False        False  False  \n",
       "704  False       False        False  False  \n",
       "813  False       False        False  False  \n",
       "..     ...         ...          ...    ...  \n",
       "106  False       False        False  False  \n",
       "270  False       False        False  False  \n",
       "860  False       False        False  False  \n",
       "435  False       False        False  False  \n",
       "102  False       False        False  False  \n",
       "\n",
       "[712 rows x 13 columns]"
      ]
     },
     "execution_count": 47,
     "metadata": {},
     "output_type": "execute_result"
    }
   ],
   "source": [
    "train.isnull()"
   ]
  },
  {
   "cell_type": "markdown",
   "metadata": {},
   "source": [
    "From here we can see that there are null values in our Cabin and Age column but a better way to see this is by plotting heatmap using seaborn lib or by just getting info about the datset."
   ]
  },
  {
   "cell_type": "code",
   "execution_count": 48,
   "metadata": {
    "trusted": true
   },
   "outputs": [
    {
     "name": "stdout",
     "output_type": "stream",
     "text": [
      "<class 'pandas.core.frame.DataFrame'>\n",
      "Index: 712 entries, 331 to 102\n",
      "Data columns (total 13 columns):\n",
      " #   Column       Non-Null Count  Dtype   \n",
      "---  ------       --------------  -----   \n",
      " 0   survived     712 non-null    int64   \n",
      " 1   pclass       712 non-null    int64   \n",
      " 2   sex          712 non-null    object  \n",
      " 3   age          572 non-null    float64 \n",
      " 4   sibsp        712 non-null    int64   \n",
      " 5   parch        712 non-null    int64   \n",
      " 6   fare         712 non-null    float64 \n",
      " 7   embarked     710 non-null    object  \n",
      " 8   class        712 non-null    category\n",
      " 9   who          712 non-null    object  \n",
      " 10  adult_male   712 non-null    bool    \n",
      " 11  embark_town  710 non-null    object  \n",
      " 12  alone        712 non-null    bool    \n",
      "dtypes: bool(2), category(1), float64(2), int64(4), object(4)\n",
      "memory usage: 63.4+ KB\n"
     ]
    }
   ],
   "source": [
    "train.info()"
   ]
  },
  {
   "cell_type": "code",
   "execution_count": 49,
   "metadata": {
    "trusted": true
   },
   "outputs": [
    {
     "data": {
      "text/plain": [
       "<Axes: >"
      ]
     },
     "execution_count": 49,
     "metadata": {},
     "output_type": "execute_result"
    },
    {
     "data": {
      "image/png": "[encoded data removed]",
      "text/plain": [
       "<Figure size 1000x1000 with 2 Axes>"
      ]
     },
     "metadata": {},
     "output_type": "display_data"
    }
   ],
   "source": [
    "plt.figure(figsize=(10,10))\n",
    "sns.heatmap(train.isnull(),yticklabels=False,cbar=True)\n"
   ]
  },
  {
   "cell_type": "markdown",
   "metadata": {},
   "source": [
    "From here we can see that there are null values in **Embarked column** as well and we might want to remove this null values for a better result."
   ]
  },
  {
   "cell_type": "markdown",
   "metadata": {},
   "source": [
    "So lets deal with the Age dataset first and try to replace these NaN values with some values that can do well.One way to do so is to just replace the values with the mean of the ages of all but that will not be a good option as you will see further how the value changes. \n",
    "\n",
    "Lets plot some of the graphs and identify the relationship of age with other features."
   ]
  },
  {
   "cell_type": "code",
   "execution_count": 50,
   "metadata": {
    "trusted": true
   },
   "outputs": [
    {
     "data": {
      "text/plain": [
       "<Axes: xlabel='pclass', ylabel='age'>"
      ]
     },
     "execution_count": 50,
     "metadata": {},
     "output_type": "execute_result"
    },
    {
     "data": {
      "image/png": "[encoded data removed]",
      "text/plain": [
       "<Figure size 1500x1000 with 1 Axes>"
      ]
     },
     "metadata": {},
     "output_type": "display_data"
    }
   ],
   "source": [
    "plt.figure(figsize=(15,10))\n",
    "sns.boxplot(x='pclass',y='age', data=train)"
   ]
  },
  {
   "cell_type": "markdown",
   "metadata": {},
   "source": [
    "From this we can see that the average age for Pclass 1 is around 38 where as for other classes its 29 and 23 respectively. So just by doing the mean we would have replaced the value to 29.6 which would have not performed as good as this . So lets replace the NaN values with the values we found for each class."
   ]
  },
  {
   "cell_type": "code",
   "execution_count": 51,
   "metadata": {
    "trusted": true
   },
   "outputs": [],
   "source": [
    "def Age_1(cols) :\n",
    "    Age=cols[0]\n",
    "    Pclass=cols[1] \n",
    "    \n",
    "    if pd.isnull(Age) :\n",
    "        if Pclass==1 :\n",
    "            return 38\n",
    "        elif Pclass==2:\n",
    "            return 29\n",
    "        else :\n",
    "            return 24\n",
    "    else :\n",
    "        return Age\n",
    "                "
   ]
  },
  {
   "cell_type": "code",
   "execution_count": 52,
   "metadata": {
    "trusted": true
   },
   "outputs": [
    {
     "name": "stderr",
     "output_type": "stream",
     "text": [
      "/var/folders/gl/nlbr9h6d001c6mdh1d8sy7fc0000gp/T/ipykernel_2528/1393391282.py:2: FutureWarning:\n",
      "\n",
      "Series.__getitem__ treating keys as positions is deprecated. In a future version, integer keys will always be treated as labels (consistent with DataFrame behavior). To access a value by position, use `ser.iloc[pos]`\n",
      "\n",
      "/var/folders/gl/nlbr9h6d001c6mdh1d8sy7fc0000gp/T/ipykernel_2528/1393391282.py:3: FutureWarning:\n",
      "\n",
      "Series.__getitem__ treating keys as positions is deprecated. In a future version, integer keys will always be treated as labels (consistent with DataFrame behavior). To access a value by position, use `ser.iloc[pos]`\n",
      "\n"
     ]
    }
   ],
   "source": [
    "train['age']=train[['age','pclass']].apply(Age_1,axis=1)"
   ]
  },
  {
   "cell_type": "markdown",
   "metadata": {},
   "source": [
    "Now there is NaN value in Embarked column and that also only two of them . So Just dropping these two values wont make much difference in our dataset."
   ]
  },
  {
   "cell_type": "code",
   "execution_count": 53,
   "metadata": {
    "trusted": true
   },
   "outputs": [],
   "source": [
    "train=train.dropna(axis=0,how='any')"
   ]
  },
  {
   "cell_type": "markdown",
   "metadata": {},
   "source": [
    "Lets see if our dataset contains any NaN values or not . "
   ]
  },
  {
   "cell_type": "code",
   "execution_count": 54,
   "metadata": {
    "trusted": true
   },
   "outputs": [
    {
     "data": {
      "text/plain": [
       "<Axes: >"
      ]
     },
     "execution_count": 54,
     "metadata": {},
     "output_type": "execute_result"
    },
    {
     "data": {
      "image/png": "[encoded data removed]",
      "text/plain": [
       "<Figure size 1000x1000 with 2 Axes>"
      ]
     },
     "metadata": {},
     "output_type": "display_data"
    }
   ],
   "source": [
    "plt.figure(figsize=(10,10))\n",
    "sns.heatmap(train.isnull(),yticklabels=False,cbar=True)"
   ]
  },
  {
   "cell_type": "markdown",
   "metadata": {},
   "source": [
    "Here we will also have to remove the NaN values and replace it will other values and repeat the same steps on your X_test dataset also bcz it also contains null values. I have just done that in one cell but you can do it by following previous steps . "
   ]
  },
  {
   "cell_type": "code",
   "execution_count": 55,
   "metadata": {
    "trusted": true
   },
   "outputs": [
    {
     "data": {
      "text/plain": [
       "<Axes: xlabel='pclass', ylabel='age'>"
      ]
     },
     "execution_count": 55,
     "metadata": {},
     "output_type": "execute_result"
    },
    {
     "data": {
      "image/png": "[encoded data removed]",
      "text/plain": [
       "<Figure size 1500x1000 with 1 Axes>"
      ]
     },
     "metadata": {},
     "output_type": "display_data"
    }
   ],
   "source": [
    "plt.figure(figsize=(15,10))\n",
    "sns.boxplot(x='pclass',y='age',data=X_test)\n"
   ]
  },
  {
   "cell_type": "code",
   "execution_count": 56,
   "metadata": {
    "trusted": true
   },
   "outputs": [],
   "source": [
    "def Age_1(cols) :\n",
    "    Age=cols[0]\n",
    "    Pclass=cols[1] \n",
    "    \n",
    "    if pd.isnull(Age) :\n",
    "        if Pclass==1 :\n",
    "            return 42 \n",
    "        elif Pclass==2:\n",
    "            return 25\n",
    "        else :\n",
    "            return 22\n",
    "    else :\n",
    "        return Age\n",
    "                "
   ]
  },
  {
   "cell_type": "code",
   "execution_count": 57,
   "metadata": {
    "trusted": true
   },
   "outputs": [
    {
     "name": "stderr",
     "output_type": "stream",
     "text": [
      "/var/folders/gl/nlbr9h6d001c6mdh1d8sy7fc0000gp/T/ipykernel_2528/2144672487.py:2: FutureWarning:\n",
      "\n",
      "Series.__getitem__ treating keys as positions is deprecated. In a future version, integer keys will always be treated as labels (consistent with DataFrame behavior). To access a value by position, use `ser.iloc[pos]`\n",
      "\n",
      "/var/folders/gl/nlbr9h6d001c6mdh1d8sy7fc0000gp/T/ipykernel_2528/2144672487.py:3: FutureWarning:\n",
      "\n",
      "Series.__getitem__ treating keys as positions is deprecated. In a future version, integer keys will always be treated as labels (consistent with DataFrame behavior). To access a value by position, use `ser.iloc[pos]`\n",
      "\n"
     ]
    }
   ],
   "source": [
    "X_test['age']=X_test[['age','pclass']].apply(Age_1,axis=1)"
   ]
  },
  {
   "cell_type": "markdown",
   "metadata": {},
   "source": [
    "Now "
   ]
  },
  {
   "cell_type": "markdown",
   "metadata": {},
   "source": [
    " Lets start visualising it in depth and get some insight out of it ."
   ]
  },
  {
   "cell_type": "code",
   "execution_count": 58,
   "metadata": {
    "trusted": true
   },
   "outputs": [
    {
     "data": {
      "text/plain": [
       "<Axes: xlabel='survived', ylabel='count'>"
      ]
     },
     "execution_count": 58,
     "metadata": {},
     "output_type": "execute_result"
    },
    {
     "data": {
      "image/png": "[encoded data removed]",
      "text/plain": [
       "<Figure size 640x480 with 1 Axes>"
      ]
     },
     "metadata": {},
     "output_type": "display_data"
    }
   ],
   "source": [
    "sns.countplot(x='survived',hue='sex',data=train)\n"
   ]
  },
  {
   "cell_type": "markdown",
   "metadata": {},
   "source": [
    "This clearly shows that a lot of females survived over males ."
   ]
  },
  {
   "cell_type": "code",
   "execution_count": 59,
   "metadata": {
    "trusted": true
   },
   "outputs": [
    {
     "data": {
      "text/plain": [
       "<Axes: xlabel='pclass', ylabel='fare'>"
      ]
     },
     "execution_count": 59,
     "metadata": {},
     "output_type": "execute_result"
    },
    {
     "data": {
      "image/png": "[encoded data removed]",
      "text/plain": [
       "<Figure size 1500x1000 with 1 Axes>"
      ]
     },
     "metadata": {},
     "output_type": "display_data"
    }
   ],
   "source": [
    "plt.figure(figsize=(15,10))\n",
    "sns.boxplot(x='pclass',y='fare',data=train)"
   ]
  },
  {
   "cell_type": "markdown",
   "metadata": {},
   "source": [
    "This tells us that for Pclass 1 they actually paid higher money while other classes didnt pay much money but also Pclass 1 and 3 have a lotmore outliers that would led to overfitting so it must be taken care off."
   ]
  },
  {
   "cell_type": "code",
   "execution_count": 60,
   "metadata": {
    "trusted": true
   },
   "outputs": [
    {
     "data": {
      "text/plain": [
       "<Axes: xlabel='survived', ylabel='count'>"
      ]
     },
     "execution_count": 60,
     "metadata": {},
     "output_type": "execute_result"
    },
    {
     "data": {
      "image/png": "[encoded data removed]",
      "text/plain": [
       "<Figure size 640x480 with 1 Axes>"
      ]
     },
     "metadata": {},
     "output_type": "display_data"
    }
   ],
   "source": [
    "sns.countplot(x='survived',hue='pclass',data=train)"
   ]
  },
  {
   "cell_type": "markdown",
   "metadata": {},
   "source": [
    "Survival rate of Pclass is much more than other but for Pclass 2 is almost the same and so by seeing this we cant just ignore the Fare feature and drop it and it is very crucial for further predictions. "
   ]
  },
  {
   "cell_type": "code",
   "execution_count": 61,
   "metadata": {
    "trusted": true
   },
   "outputs": [
    {
     "name": "stderr",
     "output_type": "stream",
     "text": [
      "/var/folders/gl/nlbr9h6d001c6mdh1d8sy7fc0000gp/T/ipykernel_2528/3716012815.py:2: UserWarning:\n",
      "\n",
      "\n",
      "\n",
      "`distplot` is a deprecated function and will be removed in seaborn v0.14.0.\n",
      "\n",
      "Please adapt your code to use either `displot` (a figure-level function with\n",
      "similar flexibility) or `histplot` (an axes-level function for histograms).\n",
      "\n",
      "For a guide to updating your code to use the new functions, please see\n",
      "https://gist.github.com/mwaskom/de44147ed2974457ad6372750bbe5751\n",
      "\n",
      "\n"
     ]
    },
    {
     "data": {
      "text/plain": [
       "<Axes: xlabel='fare', ylabel='Density'>"
      ]
     },
     "execution_count": 61,
     "metadata": {},
     "output_type": "execute_result"
    },
    {
     "data": {
      "image/png": "[encoded data removed]",
      "text/plain": [
       "<Figure size 1500x500 with 1 Axes>"
      ]
     },
     "metadata": {},
     "output_type": "display_data"
    }
   ],
   "source": [
    "plt.figure(figsize=(15,5))\n",
    "sns.distplot(train['fare'],bins=40)"
   ]
  },
  {
   "cell_type": "markdown",
   "metadata": {},
   "source": [
    "This doesnt look like a proper gaussian curve and might tend to overfit the curve as it has very less values of people survived for fare greater than 80$."
   ]
  },
  {
   "cell_type": "code",
   "execution_count": 62,
   "metadata": {
    "trusted": true
   },
   "outputs": [
    {
     "name": "stderr",
     "output_type": "stream",
     "text": [
      "/var/folders/gl/nlbr9h6d001c6mdh1d8sy7fc0000gp/T/ipykernel_2528/2339626859.py:3: UserWarning:\n",
      "\n",
      "\n",
      "\n",
      "`distplot` is a deprecated function and will be removed in seaborn v0.14.0.\n",
      "\n",
      "Please adapt your code to use either `displot` (a figure-level function with\n",
      "similar flexibility) or `histplot` (an axes-level function for histograms).\n",
      "\n",
      "For a guide to updating your code to use the new functions, please see\n",
      "https://gist.github.com/mwaskom/de44147ed2974457ad6372750bbe5751\n",
      "\n",
      "\n"
     ]
    },
    {
     "data": {
      "text/plain": [
       "<Axes: xlabel='fare', ylabel='Density'>"
      ]
     },
     "execution_count": 62,
     "metadata": {},
     "output_type": "execute_result"
    },
    {
     "data": {
      "image/png": "[encoded data removed]",
      "text/plain": [
       "<Figure size 1500x500 with 1 Axes>"
      ]
     },
     "metadata": {},
     "output_type": "display_data"
    }
   ],
   "source": [
    "train_fare = train['fare']\n",
    "plt.figure(figsize=(15,5))\n",
    "sns.distplot(train_fare,bins=40)\n"
   ]
  },
  {
   "cell_type": "markdown",
   "metadata": {},
   "source": [
    "Now we can see that the curve it equally distributed and will perfrom well under any classifier.\n"
   ]
  },
  {
   "cell_type": "code",
   "execution_count": 63,
   "metadata": {
    "trusted": true
   },
   "outputs": [],
   "source": [
    "fare=train['fare']"
   ]
  },
  {
   "cell_type": "markdown",
   "metadata": {},
   "source": [
    "Replacing the Fare values by their logerithmic values"
   ]
  },
  {
   "cell_type": "markdown",
   "metadata": {},
   "source": [
    "Now lets replace the Embarked and Sex columns with their binary values\n"
   ]
  },
  {
   "cell_type": "code",
   "execution_count": 64,
   "metadata": {
    "trusted": true
   },
   "outputs": [],
   "source": [
    "sex=pd.get_dummies(train['sex'],drop_first=True)\n",
    "emb=pd.get_dummies(train['embarked'],drop_first=True)"
   ]
  },
  {
   "cell_type": "code",
   "execution_count": 65,
   "metadata": {
    "trusted": true
   },
   "outputs": [],
   "source": [
    "y_train=train['survived']\n",
    "train.drop(['embarked','sex','survived','fare'],inplace=True,axis=1)"
   ]
  },
  {
   "cell_type": "markdown",
   "metadata": {},
   "source": [
    "The dummies are created and now the original dataset we need to concate with the newly created one "
   ]
  },
  {
   "cell_type": "code",
   "execution_count": 66,
   "metadata": {
    "trusted": true
   },
   "outputs": [],
   "source": [
    "X_train=pd.concat([train,sex,emb,fare],axis=1)"
   ]
  },
  {
   "cell_type": "code",
   "execution_count": 67,
   "metadata": {
    "trusted": true
   },
   "outputs": [
    {
     "data": {
      "text/html": [
       "<div>\n",
       "<style scoped>\n",
       "    .dataframe tbody tr th:only-of-type {\n",
       "        vertical-align: middle;\n",
       "    }\n",
       "\n",
       "    .dataframe tbody tr th {\n",
       "        vertical-align: top;\n",
       "    }\n",
       "\n",
       "    .dataframe thead th {\n",
       "        text-align: right;\n",
       "    }\n",
       "</style>\n",
       "<table border=\"1\" class=\"dataframe\">\n",
       "  <thead>\n",
       "    <tr style=\"text-align: right;\">\n",
       "      <th></th>\n",
       "      <th>pclass</th>\n",
       "      <th>age</th>\n",
       "      <th>sibsp</th>\n",
       "      <th>parch</th>\n",
       "      <th>class</th>\n",
       "      <th>who</th>\n",
       "      <th>adult_male</th>\n",
       "      <th>embark_town</th>\n",
       "      <th>alone</th>\n",
       "      <th>male</th>\n",
       "      <th>Q</th>\n",
       "      <th>S</th>\n",
       "      <th>fare</th>\n",
       "    </tr>\n",
       "  </thead>\n",
       "  <tbody>\n",
       "    <tr>\n",
       "      <th>331</th>\n",
       "      <td>1</td>\n",
       "      <td>45.5</td>\n",
       "      <td>0</td>\n",
       "      <td>0</td>\n",
       "      <td>First</td>\n",
       "      <td>man</td>\n",
       "      <td>True</td>\n",
       "      <td>Southampton</td>\n",
       "      <td>True</td>\n",
       "      <td>True</td>\n",
       "      <td>False</td>\n",
       "      <td>True</td>\n",
       "      <td>28.5000</td>\n",
       "    </tr>\n",
       "    <tr>\n",
       "      <th>733</th>\n",
       "      <td>2</td>\n",
       "      <td>23.0</td>\n",
       "      <td>0</td>\n",
       "      <td>0</td>\n",
       "      <td>Second</td>\n",
       "      <td>man</td>\n",
       "      <td>True</td>\n",
       "      <td>Southampton</td>\n",
       "      <td>True</td>\n",
       "      <td>True</td>\n",
       "      <td>False</td>\n",
       "      <td>True</td>\n",
       "      <td>13.0000</td>\n",
       "    </tr>\n",
       "    <tr>\n",
       "      <th>382</th>\n",
       "      <td>3</td>\n",
       "      <td>32.0</td>\n",
       "      <td>0</td>\n",
       "      <td>0</td>\n",
       "      <td>Third</td>\n",
       "      <td>man</td>\n",
       "      <td>True</td>\n",
       "      <td>Southampton</td>\n",
       "      <td>True</td>\n",
       "      <td>True</td>\n",
       "      <td>False</td>\n",
       "      <td>True</td>\n",
       "      <td>7.9250</td>\n",
       "    </tr>\n",
       "    <tr>\n",
       "      <th>704</th>\n",
       "      <td>3</td>\n",
       "      <td>26.0</td>\n",
       "      <td>1</td>\n",
       "      <td>0</td>\n",
       "      <td>Third</td>\n",
       "      <td>man</td>\n",
       "      <td>True</td>\n",
       "      <td>Southampton</td>\n",
       "      <td>False</td>\n",
       "      <td>True</td>\n",
       "      <td>False</td>\n",
       "      <td>True</td>\n",
       "      <td>7.8542</td>\n",
       "    </tr>\n",
       "    <tr>\n",
       "      <th>813</th>\n",
       "      <td>3</td>\n",
       "      <td>6.0</td>\n",
       "      <td>4</td>\n",
       "      <td>2</td>\n",
       "      <td>Third</td>\n",
       "      <td>child</td>\n",
       "      <td>False</td>\n",
       "      <td>Southampton</td>\n",
       "      <td>False</td>\n",
       "      <td>False</td>\n",
       "      <td>False</td>\n",
       "      <td>True</td>\n",
       "      <td>31.2750</td>\n",
       "    </tr>\n",
       "    <tr>\n",
       "      <th>...</th>\n",
       "      <td>...</td>\n",
       "      <td>...</td>\n",
       "      <td>...</td>\n",
       "      <td>...</td>\n",
       "      <td>...</td>\n",
       "      <td>...</td>\n",
       "      <td>...</td>\n",
       "      <td>...</td>\n",
       "      <td>...</td>\n",
       "      <td>...</td>\n",
       "      <td>...</td>\n",
       "      <td>...</td>\n",
       "      <td>...</td>\n",
       "    </tr>\n",
       "    <tr>\n",
       "      <th>106</th>\n",
       "      <td>3</td>\n",
       "      <td>21.0</td>\n",
       "      <td>0</td>\n",
       "      <td>0</td>\n",
       "      <td>Third</td>\n",
       "      <td>woman</td>\n",
       "      <td>False</td>\n",
       "      <td>Southampton</td>\n",
       "      <td>True</td>\n",
       "      <td>False</td>\n",
       "      <td>False</td>\n",
       "      <td>True</td>\n",
       "      <td>7.6500</td>\n",
       "    </tr>\n",
       "    <tr>\n",
       "      <th>270</th>\n",
       "      <td>1</td>\n",
       "      <td>38.0</td>\n",
       "      <td>0</td>\n",
       "      <td>0</td>\n",
       "      <td>First</td>\n",
       "      <td>man</td>\n",
       "      <td>True</td>\n",
       "      <td>Southampton</td>\n",
       "      <td>True</td>\n",
       "      <td>True</td>\n",
       "      <td>False</td>\n",
       "      <td>True</td>\n",
       "      <td>31.0000</td>\n",
       "    </tr>\n",
       "    <tr>\n",
       "      <th>860</th>\n",
       "      <td>3</td>\n",
       "      <td>41.0</td>\n",
       "      <td>2</td>\n",
       "      <td>0</td>\n",
       "      <td>Third</td>\n",
       "      <td>man</td>\n",
       "      <td>True</td>\n",
       "      <td>Southampton</td>\n",
       "      <td>False</td>\n",
       "      <td>True</td>\n",
       "      <td>False</td>\n",
       "      <td>True</td>\n",
       "      <td>14.1083</td>\n",
       "    </tr>\n",
       "    <tr>\n",
       "      <th>435</th>\n",
       "      <td>1</td>\n",
       "      <td>14.0</td>\n",
       "      <td>1</td>\n",
       "      <td>2</td>\n",
       "      <td>First</td>\n",
       "      <td>child</td>\n",
       "      <td>False</td>\n",
       "      <td>Southampton</td>\n",
       "      <td>False</td>\n",
       "      <td>False</td>\n",
       "      <td>False</td>\n",
       "      <td>True</td>\n",
       "      <td>120.0000</td>\n",
       "    </tr>\n",
       "    <tr>\n",
       "      <th>102</th>\n",
       "      <td>1</td>\n",
       "      <td>21.0</td>\n",
       "      <td>0</td>\n",
       "      <td>1</td>\n",
       "      <td>First</td>\n",
       "      <td>man</td>\n",
       "      <td>True</td>\n",
       "      <td>Southampton</td>\n",
       "      <td>False</td>\n",
       "      <td>True</td>\n",
       "      <td>False</td>\n",
       "      <td>True</td>\n",
       "      <td>77.2875</td>\n",
       "    </tr>\n",
       "  </tbody>\n",
       "</table>\n",
       "<p>710 rows × 13 columns</p>\n",
       "</div>"
      ],
      "text/plain": [
       "     pclass   age  sibsp  parch   class    who  adult_male  embark_town  \\\n",
       "331       1  45.5      0      0   First    man        True  Southampton   \n",
       "733       2  23.0      0      0  Second    man        True  Southampton   \n",
       "382       3  32.0      0      0   Third    man        True  Southampton   \n",
       "704       3  26.0      1      0   Third    man        True  Southampton   \n",
       "813       3   6.0      4      2   Third  child       False  Southampton   \n",
       "..      ...   ...    ...    ...     ...    ...         ...          ...   \n",
       "106       3  21.0      0      0   Third  woman       False  Southampton   \n",
       "270       1  38.0      0      0   First    man        True  Southampton   \n",
       "860       3  41.0      2      0   Third    man        True  Southampton   \n",
       "435       1  14.0      1      2   First  child       False  Southampton   \n",
       "102       1  21.0      0      1   First    man        True  Southampton   \n",
       "\n",
       "     alone   male      Q     S      fare  \n",
       "331   True   True  False  True   28.5000  \n",
       "733   True   True  False  True   13.0000  \n",
       "382   True   True  False  True    7.9250  \n",
       "704  False   True  False  True    7.8542  \n",
       "813  False  False  False  True   31.2750  \n",
       "..     ...    ...    ...   ...       ...  \n",
       "106   True  False  False  True    7.6500  \n",
       "270   True   True  False  True   31.0000  \n",
       "860  False   True  False  True   14.1083  \n",
       "435  False  False  False  True  120.0000  \n",
       "102  False   True  False  True   77.2875  \n",
       "\n",
       "[710 rows x 13 columns]"
      ]
     },
     "execution_count": 67,
     "metadata": {},
     "output_type": "execute_result"
    }
   ],
   "source": [
    "X_train"
   ]
  },
  {
   "cell_type": "markdown",
   "metadata": {},
   "source": [
    "This is our final dataset for training the dataset and same goes for y_train .\n",
    "\n",
    "I have to perform the following steps on X_test i.e. test data as well bcz even it contains some of the data like this \n",
    ".Repeat the steps\n"
   ]
  },
  {
   "cell_type": "code",
   "execution_count": 68,
   "metadata": {
    "trusted": true
   },
   "outputs": [],
   "source": [
    "test_fare=X_test['fare'].map(lambda i: np.log(i) if i > 0 else 0)"
   ]
  },
  {
   "cell_type": "code",
   "execution_count": 69,
   "metadata": {
    "trusted": true
   },
   "outputs": [],
   "source": [
    "test_sex=pd.get_dummies(X_test['sex'],drop_first=True)\n",
    "test_emb=pd.get_dummies(X_test['embarked'],drop_first=True)\n",
    "X_test.drop(['embarked','sex','fare'],inplace=True,axis=1)\n",
    "X_test=pd.concat([X_test,test_sex,test_emb,test_fare],axis=1)"
   ]
  },
  {
   "cell_type": "code",
   "execution_count": 70,
   "metadata": {
    "trusted": true
   },
   "outputs": [],
   "source": [
    "Y_test=pd.concat([X_test,test_sex,test_emb,test_fare,y_test],axis=1)\n",
    "Y_test=Y_test.dropna(axis=0,how='any')\n"
   ]
  },
  {
   "cell_type": "code",
   "execution_count": 71,
   "metadata": {
    "trusted": true
   },
   "outputs": [],
   "source": [
    "y_test=Y_test['survived']"
   ]
  },
  {
   "cell_type": "code",
   "execution_count": 72,
   "metadata": {},
   "outputs": [
    {
     "data": {
      "text/html": [
       "<div>\n",
       "<style scoped>\n",
       "    .dataframe tbody tr th:only-of-type {\n",
       "        vertical-align: middle;\n",
       "    }\n",
       "\n",
       "    .dataframe tbody tr th {\n",
       "        vertical-align: top;\n",
       "    }\n",
       "\n",
       "    .dataframe thead th {\n",
       "        text-align: right;\n",
       "    }\n",
       "</style>\n",
       "<table border=\"1\" class=\"dataframe\">\n",
       "  <thead>\n",
       "    <tr style=\"text-align: right;\">\n",
       "      <th></th>\n",
       "      <th>pclass</th>\n",
       "      <th>age</th>\n",
       "      <th>sibsp</th>\n",
       "      <th>parch</th>\n",
       "      <th>class</th>\n",
       "      <th>who</th>\n",
       "      <th>adult_male</th>\n",
       "      <th>embark_town</th>\n",
       "      <th>alone</th>\n",
       "      <th>male</th>\n",
       "      <th>Q</th>\n",
       "      <th>S</th>\n",
       "      <th>fare</th>\n",
       "    </tr>\n",
       "  </thead>\n",
       "  <tbody>\n",
       "    <tr>\n",
       "      <th>331</th>\n",
       "      <td>1</td>\n",
       "      <td>45.5</td>\n",
       "      <td>0</td>\n",
       "      <td>0</td>\n",
       "      <td>First</td>\n",
       "      <td>man</td>\n",
       "      <td>True</td>\n",
       "      <td>Southampton</td>\n",
       "      <td>True</td>\n",
       "      <td>True</td>\n",
       "      <td>False</td>\n",
       "      <td>True</td>\n",
       "      <td>28.5000</td>\n",
       "    </tr>\n",
       "    <tr>\n",
       "      <th>733</th>\n",
       "      <td>2</td>\n",
       "      <td>23.0</td>\n",
       "      <td>0</td>\n",
       "      <td>0</td>\n",
       "      <td>Second</td>\n",
       "      <td>man</td>\n",
       "      <td>True</td>\n",
       "      <td>Southampton</td>\n",
       "      <td>True</td>\n",
       "      <td>True</td>\n",
       "      <td>False</td>\n",
       "      <td>True</td>\n",
       "      <td>13.0000</td>\n",
       "    </tr>\n",
       "    <tr>\n",
       "      <th>382</th>\n",
       "      <td>3</td>\n",
       "      <td>32.0</td>\n",
       "      <td>0</td>\n",
       "      <td>0</td>\n",
       "      <td>Third</td>\n",
       "      <td>man</td>\n",
       "      <td>True</td>\n",
       "      <td>Southampton</td>\n",
       "      <td>True</td>\n",
       "      <td>True</td>\n",
       "      <td>False</td>\n",
       "      <td>True</td>\n",
       "      <td>7.9250</td>\n",
       "    </tr>\n",
       "    <tr>\n",
       "      <th>704</th>\n",
       "      <td>3</td>\n",
       "      <td>26.0</td>\n",
       "      <td>1</td>\n",
       "      <td>0</td>\n",
       "      <td>Third</td>\n",
       "      <td>man</td>\n",
       "      <td>True</td>\n",
       "      <td>Southampton</td>\n",
       "      <td>False</td>\n",
       "      <td>True</td>\n",
       "      <td>False</td>\n",
       "      <td>True</td>\n",
       "      <td>7.8542</td>\n",
       "    </tr>\n",
       "    <tr>\n",
       "      <th>813</th>\n",
       "      <td>3</td>\n",
       "      <td>6.0</td>\n",
       "      <td>4</td>\n",
       "      <td>2</td>\n",
       "      <td>Third</td>\n",
       "      <td>child</td>\n",
       "      <td>False</td>\n",
       "      <td>Southampton</td>\n",
       "      <td>False</td>\n",
       "      <td>False</td>\n",
       "      <td>False</td>\n",
       "      <td>True</td>\n",
       "      <td>31.2750</td>\n",
       "    </tr>\n",
       "    <tr>\n",
       "      <th>...</th>\n",
       "      <td>...</td>\n",
       "      <td>...</td>\n",
       "      <td>...</td>\n",
       "      <td>...</td>\n",
       "      <td>...</td>\n",
       "      <td>...</td>\n",
       "      <td>...</td>\n",
       "      <td>...</td>\n",
       "      <td>...</td>\n",
       "      <td>...</td>\n",
       "      <td>...</td>\n",
       "      <td>...</td>\n",
       "      <td>...</td>\n",
       "    </tr>\n",
       "    <tr>\n",
       "      <th>106</th>\n",
       "      <td>3</td>\n",
       "      <td>21.0</td>\n",
       "      <td>0</td>\n",
       "      <td>0</td>\n",
       "      <td>Third</td>\n",
       "      <td>woman</td>\n",
       "      <td>False</td>\n",
       "      <td>Southampton</td>\n",
       "      <td>True</td>\n",
       "      <td>False</td>\n",
       "      <td>False</td>\n",
       "      <td>True</td>\n",
       "      <td>7.6500</td>\n",
       "    </tr>\n",
       "    <tr>\n",
       "      <th>270</th>\n",
       "      <td>1</td>\n",
       "      <td>38.0</td>\n",
       "      <td>0</td>\n",
       "      <td>0</td>\n",
       "      <td>First</td>\n",
       "      <td>man</td>\n",
       "      <td>True</td>\n",
       "      <td>Southampton</td>\n",
       "      <td>True</td>\n",
       "      <td>True</td>\n",
       "      <td>False</td>\n",
       "      <td>True</td>\n",
       "      <td>31.0000</td>\n",
       "    </tr>\n",
       "    <tr>\n",
       "      <th>860</th>\n",
       "      <td>3</td>\n",
       "      <td>41.0</td>\n",
       "      <td>2</td>\n",
       "      <td>0</td>\n",
       "      <td>Third</td>\n",
       "      <td>man</td>\n",
       "      <td>True</td>\n",
       "      <td>Southampton</td>\n",
       "      <td>False</td>\n",
       "      <td>True</td>\n",
       "      <td>False</td>\n",
       "      <td>True</td>\n",
       "      <td>14.1083</td>\n",
       "    </tr>\n",
       "    <tr>\n",
       "      <th>435</th>\n",
       "      <td>1</td>\n",
       "      <td>14.0</td>\n",
       "      <td>1</td>\n",
       "      <td>2</td>\n",
       "      <td>First</td>\n",
       "      <td>child</td>\n",
       "      <td>False</td>\n",
       "      <td>Southampton</td>\n",
       "      <td>False</td>\n",
       "      <td>False</td>\n",
       "      <td>False</td>\n",
       "      <td>True</td>\n",
       "      <td>120.0000</td>\n",
       "    </tr>\n",
       "    <tr>\n",
       "      <th>102</th>\n",
       "      <td>1</td>\n",
       "      <td>21.0</td>\n",
       "      <td>0</td>\n",
       "      <td>1</td>\n",
       "      <td>First</td>\n",
       "      <td>man</td>\n",
       "      <td>True</td>\n",
       "      <td>Southampton</td>\n",
       "      <td>False</td>\n",
       "      <td>True</td>\n",
       "      <td>False</td>\n",
       "      <td>True</td>\n",
       "      <td>77.2875</td>\n",
       "    </tr>\n",
       "  </tbody>\n",
       "</table>\n",
       "<p>710 rows × 13 columns</p>\n",
       "</div>"
      ],
      "text/plain": [
       "     pclass   age  sibsp  parch   class    who  adult_male  embark_town  \\\n",
       "331       1  45.5      0      0   First    man        True  Southampton   \n",
       "733       2  23.0      0      0  Second    man        True  Southampton   \n",
       "382       3  32.0      0      0   Third    man        True  Southampton   \n",
       "704       3  26.0      1      0   Third    man        True  Southampton   \n",
       "813       3   6.0      4      2   Third  child       False  Southampton   \n",
       "..      ...   ...    ...    ...     ...    ...         ...          ...   \n",
       "106       3  21.0      0      0   Third  woman       False  Southampton   \n",
       "270       1  38.0      0      0   First    man        True  Southampton   \n",
       "860       3  41.0      2      0   Third    man        True  Southampton   \n",
       "435       1  14.0      1      2   First  child       False  Southampton   \n",
       "102       1  21.0      0      1   First    man        True  Southampton   \n",
       "\n",
       "     alone   male      Q     S      fare  \n",
       "331   True   True  False  True   28.5000  \n",
       "733   True   True  False  True   13.0000  \n",
       "382   True   True  False  True    7.9250  \n",
       "704  False   True  False  True    7.8542  \n",
       "813  False  False  False  True   31.2750  \n",
       "..     ...    ...    ...   ...       ...  \n",
       "106   True  False  False  True    7.6500  \n",
       "270   True   True  False  True   31.0000  \n",
       "860  False   True  False  True   14.1083  \n",
       "435  False  False  False  True  120.0000  \n",
       "102  False   True  False  True   77.2875  \n",
       "\n",
       "[710 rows x 13 columns]"
      ]
     },
     "execution_count": 72,
     "metadata": {},
     "output_type": "execute_result"
    }
   ],
   "source": [
    "X_train"
   ]
  },
  {
   "cell_type": "markdown",
   "metadata": {},
   "source": [
    "Now we only problm we would face is that our X_test contains 417 rows of data whereas our y_test contains 418 rows of data . So instead initiall while removing the NaN value from fare dataset we would have just used OneHotEncoder for categorical data and IterativeImputer for Numerical data to solve it . But it just one value other way is to just concate it and then drop that value ,  so that it will remove it from our y_test dataset as well."
   ]
  },
  {
   "cell_type": "markdown",
   "metadata": {},
   "source": [
    "Now our dataset preprocessing and visualisation is complete and now its time to use the proper method to train and test the dataset to get the best output."
   ]
  },
  {
   "cell_type": "code",
   "execution_count": 73,
   "metadata": {},
   "outputs": [],
   "source": [
    "from model import ModelTraining\n",
    "import pickle as pkl\n",
    "import plotly.express as px\n",
    "from sklearn.pipeline import Pipeline\n",
    "import joblib"
   ]
  },
  {
   "cell_type": "code",
   "execution_count": 74,
   "metadata": {},
   "outputs": [],
   "source": [
    "columns = ['pclass', 'age', 'sibsp', 'parch', 'male', 'Q', 'S', 'fare']\n",
    "X_train = X_train[columns]\n",
    "X_test = X_test[columns]"
   ]
  },
  {
   "cell_type": "code",
   "execution_count": 75,
   "metadata": {},
   "outputs": [
    {
     "name": "stderr",
     "output_type": "stream",
     "text": [
      "/var/folders/gl/nlbr9h6d001c6mdh1d8sy7fc0000gp/T/ipykernel_2528/944969095.py:9: SettingWithCopyWarning:\n",
      "\n",
      "\n",
      "A value is trying to be set on a copy of a slice from a DataFrame.\n",
      "Try using .loc[row_indexer,col_indexer] = value instead\n",
      "\n",
      "See the caveats in the documentation: https://pandas.pydata.org/pandas-docs/stable/user_guide/indexing.html#returning-a-view-versus-a-copy\n",
      "\n",
      "/var/folders/gl/nlbr9h6d001c6mdh1d8sy7fc0000gp/T/ipykernel_2528/944969095.py:9: SettingWithCopyWarning:\n",
      "\n",
      "\n",
      "A value is trying to be set on a copy of a slice from a DataFrame.\n",
      "Try using .loc[row_indexer,col_indexer] = value instead\n",
      "\n",
      "See the caveats in the documentation: https://pandas.pydata.org/pandas-docs/stable/user_guide/indexing.html#returning-a-view-versus-a-copy\n",
      "\n",
      "/var/folders/gl/nlbr9h6d001c6mdh1d8sy7fc0000gp/T/ipykernel_2528/944969095.py:9: SettingWithCopyWarning:\n",
      "\n",
      "\n",
      "A value is trying to be set on a copy of a slice from a DataFrame.\n",
      "Try using .loc[row_indexer,col_indexer] = value instead\n",
      "\n",
      "See the caveats in the documentation: https://pandas.pydata.org/pandas-docs/stable/user_guide/indexing.html#returning-a-view-versus-a-copy\n",
      "\n"
     ]
    }
   ],
   "source": [
    "from sklearn.preprocessing import LabelEncoder\n",
    "\n",
    "encoders = {}\n",
    "\n",
    "colunas_quali = [col for col in X_train.columns if X_train[col].dtype not in ['int32', 'int64', 'float32', 'float64']]\n",
    "\n",
    "for col in colunas_quali:\n",
    "    le = LabelEncoder()\n",
    "    X_train[col] = le.fit_transform(X_train[col])\n",
    "    encoders[col] = le"
   ]
  },
  {
   "cell_type": "code",
   "execution_count": 76,
   "metadata": {},
   "outputs": [
    {
     "data": {
      "text/html": [
       "<div>\n",
       "<style scoped>\n",
       "    .dataframe tbody tr th:only-of-type {\n",
       "        vertical-align: middle;\n",
       "    }\n",
       "\n",
       "    .dataframe tbody tr th {\n",
       "        vertical-align: top;\n",
       "    }\n",
       "\n",
       "    .dataframe thead th {\n",
       "        text-align: right;\n",
       "    }\n",
       "</style>\n",
       "<table border=\"1\" class=\"dataframe\">\n",
       "  <thead>\n",
       "    <tr style=\"text-align: right;\">\n",
       "      <th></th>\n",
       "      <th>pclass</th>\n",
       "      <th>age</th>\n",
       "      <th>sibsp</th>\n",
       "      <th>parch</th>\n",
       "      <th>male</th>\n",
       "      <th>Q</th>\n",
       "      <th>S</th>\n",
       "      <th>fare</th>\n",
       "    </tr>\n",
       "  </thead>\n",
       "  <tbody>\n",
       "    <tr>\n",
       "      <th>331</th>\n",
       "      <td>1</td>\n",
       "      <td>45.5</td>\n",
       "      <td>0</td>\n",
       "      <td>0</td>\n",
       "      <td>1</td>\n",
       "      <td>0</td>\n",
       "      <td>1</td>\n",
       "      <td>28.5000</td>\n",
       "    </tr>\n",
       "    <tr>\n",
       "      <th>733</th>\n",
       "      <td>2</td>\n",
       "      <td>23.0</td>\n",
       "      <td>0</td>\n",
       "      <td>0</td>\n",
       "      <td>1</td>\n",
       "      <td>0</td>\n",
       "      <td>1</td>\n",
       "      <td>13.0000</td>\n",
       "    </tr>\n",
       "    <tr>\n",
       "      <th>382</th>\n",
       "      <td>3</td>\n",
       "      <td>32.0</td>\n",
       "      <td>0</td>\n",
       "      <td>0</td>\n",
       "      <td>1</td>\n",
       "      <td>0</td>\n",
       "      <td>1</td>\n",
       "      <td>7.9250</td>\n",
       "    </tr>\n",
       "    <tr>\n",
       "      <th>704</th>\n",
       "      <td>3</td>\n",
       "      <td>26.0</td>\n",
       "      <td>1</td>\n",
       "      <td>0</td>\n",
       "      <td>1</td>\n",
       "      <td>0</td>\n",
       "      <td>1</td>\n",
       "      <td>7.8542</td>\n",
       "    </tr>\n",
       "    <tr>\n",
       "      <th>813</th>\n",
       "      <td>3</td>\n",
       "      <td>6.0</td>\n",
       "      <td>4</td>\n",
       "      <td>2</td>\n",
       "      <td>0</td>\n",
       "      <td>0</td>\n",
       "      <td>1</td>\n",
       "      <td>31.2750</td>\n",
       "    </tr>\n",
       "    <tr>\n",
       "      <th>...</th>\n",
       "      <td>...</td>\n",
       "      <td>...</td>\n",
       "      <td>...</td>\n",
       "      <td>...</td>\n",
       "      <td>...</td>\n",
       "      <td>...</td>\n",
       "      <td>...</td>\n",
       "      <td>...</td>\n",
       "    </tr>\n",
       "    <tr>\n",
       "      <th>106</th>\n",
       "      <td>3</td>\n",
       "      <td>21.0</td>\n",
       "      <td>0</td>\n",
       "      <td>0</td>\n",
       "      <td>0</td>\n",
       "      <td>0</td>\n",
       "      <td>1</td>\n",
       "      <td>7.6500</td>\n",
       "    </tr>\n",
       "    <tr>\n",
       "      <th>270</th>\n",
       "      <td>1</td>\n",
       "      <td>38.0</td>\n",
       "      <td>0</td>\n",
       "      <td>0</td>\n",
       "      <td>1</td>\n",
       "      <td>0</td>\n",
       "      <td>1</td>\n",
       "      <td>31.0000</td>\n",
       "    </tr>\n",
       "    <tr>\n",
       "      <th>860</th>\n",
       "      <td>3</td>\n",
       "      <td>41.0</td>\n",
       "      <td>2</td>\n",
       "      <td>0</td>\n",
       "      <td>1</td>\n",
       "      <td>0</td>\n",
       "      <td>1</td>\n",
       "      <td>14.1083</td>\n",
       "    </tr>\n",
       "    <tr>\n",
       "      <th>435</th>\n",
       "      <td>1</td>\n",
       "      <td>14.0</td>\n",
       "      <td>1</td>\n",
       "      <td>2</td>\n",
       "      <td>0</td>\n",
       "      <td>0</td>\n",
       "      <td>1</td>\n",
       "      <td>120.0000</td>\n",
       "    </tr>\n",
       "    <tr>\n",
       "      <th>102</th>\n",
       "      <td>1</td>\n",
       "      <td>21.0</td>\n",
       "      <td>0</td>\n",
       "      <td>1</td>\n",
       "      <td>1</td>\n",
       "      <td>0</td>\n",
       "      <td>1</td>\n",
       "      <td>77.2875</td>\n",
       "    </tr>\n",
       "  </tbody>\n",
       "</table>\n",
       "<p>710 rows × 8 columns</p>\n",
       "</div>"
      ],
      "text/plain": [
       "     pclass   age  sibsp  parch  male  Q  S      fare\n",
       "331       1  45.5      0      0     1  0  1   28.5000\n",
       "733       2  23.0      0      0     1  0  1   13.0000\n",
       "382       3  32.0      0      0     1  0  1    7.9250\n",
       "704       3  26.0      1      0     1  0  1    7.8542\n",
       "813       3   6.0      4      2     0  0  1   31.2750\n",
       "..      ...   ...    ...    ...   ... .. ..       ...\n",
       "106       3  21.0      0      0     0  0  1    7.6500\n",
       "270       1  38.0      0      0     1  0  1   31.0000\n",
       "860       3  41.0      2      0     1  0  1   14.1083\n",
       "435       1  14.0      1      2     0  0  1  120.0000\n",
       "102       1  21.0      0      1     1  0  1   77.2875\n",
       "\n",
       "[710 rows x 8 columns]"
      ]
     },
     "execution_count": 76,
     "metadata": {},
     "output_type": "execute_result"
    }
   ],
   "source": [
    "X_train"
   ]
  },
  {
   "cell_type": "code",
   "execution_count": 77,
   "metadata": {},
   "outputs": [
    {
     "data": {
      "text/html": [
       "<div>\n",
       "<style scoped>\n",
       "    .dataframe tbody tr th:only-of-type {\n",
       "        vertical-align: middle;\n",
       "    }\n",
       "\n",
       "    .dataframe tbody tr th {\n",
       "        vertical-align: top;\n",
       "    }\n",
       "\n",
       "    .dataframe thead th {\n",
       "        text-align: right;\n",
       "    }\n",
       "</style>\n",
       "<table border=\"1\" class=\"dataframe\">\n",
       "  <thead>\n",
       "    <tr style=\"text-align: right;\">\n",
       "      <th></th>\n",
       "      <th>pclass</th>\n",
       "      <th>age</th>\n",
       "      <th>sibsp</th>\n",
       "      <th>parch</th>\n",
       "      <th>male</th>\n",
       "      <th>Q</th>\n",
       "      <th>S</th>\n",
       "      <th>fare</th>\n",
       "    </tr>\n",
       "  </thead>\n",
       "  <tbody>\n",
       "    <tr>\n",
       "      <th>709</th>\n",
       "      <td>3</td>\n",
       "      <td>22.0</td>\n",
       "      <td>1</td>\n",
       "      <td>1</td>\n",
       "      <td>True</td>\n",
       "      <td>False</td>\n",
       "      <td>False</td>\n",
       "      <td>2.724304</td>\n",
       "    </tr>\n",
       "    <tr>\n",
       "      <th>439</th>\n",
       "      <td>2</td>\n",
       "      <td>31.0</td>\n",
       "      <td>0</td>\n",
       "      <td>0</td>\n",
       "      <td>True</td>\n",
       "      <td>False</td>\n",
       "      <td>True</td>\n",
       "      <td>2.351375</td>\n",
       "    </tr>\n",
       "    <tr>\n",
       "      <th>840</th>\n",
       "      <td>3</td>\n",
       "      <td>20.0</td>\n",
       "      <td>0</td>\n",
       "      <td>0</td>\n",
       "      <td>True</td>\n",
       "      <td>False</td>\n",
       "      <td>True</td>\n",
       "      <td>2.070022</td>\n",
       "    </tr>\n",
       "    <tr>\n",
       "      <th>720</th>\n",
       "      <td>2</td>\n",
       "      <td>6.0</td>\n",
       "      <td>0</td>\n",
       "      <td>1</td>\n",
       "      <td>False</td>\n",
       "      <td>False</td>\n",
       "      <td>True</td>\n",
       "      <td>3.496508</td>\n",
       "    </tr>\n",
       "    <tr>\n",
       "      <th>39</th>\n",
       "      <td>3</td>\n",
       "      <td>14.0</td>\n",
       "      <td>1</td>\n",
       "      <td>0</td>\n",
       "      <td>False</td>\n",
       "      <td>False</td>\n",
       "      <td>False</td>\n",
       "      <td>2.419630</td>\n",
       "    </tr>\n",
       "    <tr>\n",
       "      <th>...</th>\n",
       "      <td>...</td>\n",
       "      <td>...</td>\n",
       "      <td>...</td>\n",
       "      <td>...</td>\n",
       "      <td>...</td>\n",
       "      <td>...</td>\n",
       "      <td>...</td>\n",
       "      <td>...</td>\n",
       "    </tr>\n",
       "    <tr>\n",
       "      <th>433</th>\n",
       "      <td>3</td>\n",
       "      <td>17.0</td>\n",
       "      <td>0</td>\n",
       "      <td>0</td>\n",
       "      <td>True</td>\n",
       "      <td>False</td>\n",
       "      <td>True</td>\n",
       "      <td>1.963610</td>\n",
       "    </tr>\n",
       "    <tr>\n",
       "      <th>773</th>\n",
       "      <td>3</td>\n",
       "      <td>22.0</td>\n",
       "      <td>0</td>\n",
       "      <td>0</td>\n",
       "      <td>True</td>\n",
       "      <td>False</td>\n",
       "      <td>False</td>\n",
       "      <td>1.977547</td>\n",
       "    </tr>\n",
       "    <tr>\n",
       "      <th>25</th>\n",
       "      <td>3</td>\n",
       "      <td>38.0</td>\n",
       "      <td>1</td>\n",
       "      <td>5</td>\n",
       "      <td>False</td>\n",
       "      <td>False</td>\n",
       "      <td>True</td>\n",
       "      <td>3.446410</td>\n",
       "    </tr>\n",
       "    <tr>\n",
       "      <th>84</th>\n",
       "      <td>2</td>\n",
       "      <td>17.0</td>\n",
       "      <td>0</td>\n",
       "      <td>0</td>\n",
       "      <td>False</td>\n",
       "      <td>False</td>\n",
       "      <td>True</td>\n",
       "      <td>2.351375</td>\n",
       "    </tr>\n",
       "    <tr>\n",
       "      <th>10</th>\n",
       "      <td>3</td>\n",
       "      <td>4.0</td>\n",
       "      <td>1</td>\n",
       "      <td>1</td>\n",
       "      <td>False</td>\n",
       "      <td>False</td>\n",
       "      <td>True</td>\n",
       "      <td>2.815409</td>\n",
       "    </tr>\n",
       "  </tbody>\n",
       "</table>\n",
       "<p>179 rows × 8 columns</p>\n",
       "</div>"
      ],
      "text/plain": [
       "     pclass   age  sibsp  parch   male      Q      S      fare\n",
       "709       3  22.0      1      1   True  False  False  2.724304\n",
       "439       2  31.0      0      0   True  False   True  2.351375\n",
       "840       3  20.0      0      0   True  False   True  2.070022\n",
       "720       2   6.0      0      1  False  False   True  3.496508\n",
       "39        3  14.0      1      0  False  False  False  2.419630\n",
       "..      ...   ...    ...    ...    ...    ...    ...       ...\n",
       "433       3  17.0      0      0   True  False   True  1.963610\n",
       "773       3  22.0      0      0   True  False  False  1.977547\n",
       "25        3  38.0      1      5  False  False   True  3.446410\n",
       "84        2  17.0      0      0  False  False   True  2.351375\n",
       "10        3   4.0      1      1  False  False   True  2.815409\n",
       "\n",
       "[179 rows x 8 columns]"
      ]
     },
     "execution_count": 77,
     "metadata": {},
     "output_type": "execute_result"
    }
   ],
   "source": [
    "X_test"
   ]
  },
  {
   "cell_type": "code",
   "execution_count": 78,
   "metadata": {},
   "outputs": [],
   "source": [
    "for col in encoders:\n",
    "    X_test[col] = encoders[col].transform(X_test[col])"
   ]
  },
  {
   "cell_type": "code",
   "execution_count": null,
   "metadata": {},
   "outputs": [
    {
     "name": "stdout",
     "output_type": "stream",
     "text": [
      "\n",
      "1 camada(s), 1 neurônio(s):\n"
     ]
    }
   ],
   "source": [
    "titanic_model = ModelTraining(X_train, X_test, y_train, y_test).train(1000)\n",
    "with open('titanic.pkl', 'wb') as file:\n",
    "    pkl.dump(titanic_model.best_model['model'], file)\n",
    "px.line(y=[titanic_model.best_model['history']['val_binary_accuracy'], titanic_model.best_model['history']['val_loss']])"
   ]
  },
  {
   "cell_type": "code",
   "execution_count": null,
   "metadata": {},
   "outputs": [
    {
     "data": {
      "text/plain": [
       "0.8435754179954529"
      ]
     },
     "execution_count": 260,
     "metadata": {},
     "output_type": "execute_result"
    }
   ],
   "source": [
    "titanic_model.best_model['accuracy']"
   ]
  },
  {
   "cell_type": "code",
   "execution_count": null,
   "metadata": {},
   "outputs": [
    {
     "data": {
      "text/plain": [
       "dict_keys(['binary_accuracy', 'loss', 'val_binary_accuracy', 'val_loss'])"
      ]
     },
     "execution_count": 264,
     "metadata": {},
     "output_type": "execute_result"
    }
   ],
   "source": [
    "titanic_model.best_model['history']['val_binary_Accuracy']"
   ]
  },
  {
   "cell_type": "code",
   "execution_count": null,
   "metadata": {},
   "outputs": [
    {
     "data": {
      "application/vnd.plotly.v1+json": {
       "config": {
        "plotlyServerURL": "https://plot.ly"
       },
       "data": [
        {
         "hovertemplate": "variable=wide_variable_0<br>index=%{x}<br>value=%{y}<extra></extra>",
         "legendgroup": "wide_variable_0",
         "line": {
          "color": "#636efa",
          "dash": "solid"
         },
         "marker": {
          "symbol": "circle"
         },
         "mode": "lines",
         "name": "wide_variable_0",
         "showlegend": true,
         "type": "scattergl",
         "x": {
          "bdata": "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",
          "dtype": "i2"
         },
         "xaxis": "x",
         "y": {
          "bdata": "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",
          "dtype": "f8"
         },
         "yaxis": "y"
        },
        {
         "hovertemplate": "variable=wide_variable_1<br>index=%{x}<br>value=%{y}<extra></extra>",
         "legendgroup": "wide_variable_1",
         "line": {
          "color": "#EF553B",
          "dash": "solid"
         },
         "marker": {
          "symbol": "circle"
         },
         "mode": "lines",
         "name": "wide_variable_1",
         "showlegend": true,
         "type": "scattergl",
         "x": {
          "bdata": "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",
          "dtype": "i2"
         },
         "xaxis": "x",
         "y": {
          "bdata": "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",
          "dtype": "f8"
         },
         "yaxis": "y"
        }
       ],
       "layout": {
        "legend": {
         "title": {
          "text": "variable"
         },
         "tracegroupgap": 0
        },
        "margin": {
         "t": 60
        },
        "template": {
         "data": {
          "bar": [
           {
            "error_x": {
             "color": "#2a3f5f"
            },
            "error_y": {
             "color": "#2a3f5f"
            },
            "marker": {
             "line": {
              "color": "#E5ECF6",
              "width": 0.5
             },
             "pattern": {
              "fillmode": "overlay",
              "size": 10,
              "solidity": 0.2
             }
            },
            "type": "bar"
           }
          ],
          "barpolar": [
           {
            "marker": {
             "line": {
              "color": "#E5ECF6",
              "width": 0.5
             },
             "pattern": {
              "fillmode": "overlay",
              "size": 10,
              "solidity": 0.2
             }
            },
            "type": "barpolar"
           }
          ],
          "carpet": [
           {
            "aaxis": {
             "endlinecolor": "#2a3f5f",
             "gridcolor": "white",
             "linecolor": "white",
             "minorgridcolor": "white",
             "startlinecolor": "#2a3f5f"
            },
            "baxis": {
             "endlinecolor": "#2a3f5f",
             "gridcolor": "white",
             "linecolor": "white",
             "minorgridcolor": "white",
             "startlinecolor": "#2a3f5f"
            },
            "type": "carpet"
           }
          ],
          "choropleth": [
           {
            "colorbar": {
             "outlinewidth": 0,
             "ticks": ""
            },
            "type": "choropleth"
           }
          ],
          "contour": [
           {
            "colorbar": {
             "outlinewidth": 0,
             "ticks": ""
            },
            "colorscale": [
             [
              0,
              "#0d0887"
             ],
             [
              0.1111111111111111,
              "#46039f"
             ],
             [
              0.2222222222222222,
              "#7201a8"
             ],
             [
              0.3333333333333333,
              "#9c179e"
             ],
             [
              0.4444444444444444,
              "#bd3786"
             ],
             [
              0.5555555555555556,
              "#d8576b"
             ],
             [
              0.6666666666666666,
              "#ed7953"
             ],
             [
              0.7777777777777778,
              "#fb9f3a"
             ],
             [
              0.8888888888888888,
              "#fdca26"
             ],
             [
              1,
              "#f0f921"
             ]
            ],
            "type": "contour"
           }
          ],
          "contourcarpet": [
           {
            "colorbar": {
             "outlinewidth": 0,
             "ticks": ""
            },
            "type": "contourcarpet"
           }
          ],
          "heatmap": [
           {
            "colorbar": {
             "outlinewidth": 0,
             "ticks": ""
            },
            "colorscale": [
             [
              0,
              "#0d0887"
             ],
             [
              0.1111111111111111,
              "#46039f"
             ],
             [
              0.2222222222222222,
              "#7201a8"
             ],
             [
              0.3333333333333333,
              "#9c179e"
             ],
             [
              0.4444444444444444,
              "#bd3786"
             ],
             [
              0.5555555555555556,
              "#d8576b"
             ],
             [
              0.6666666666666666,
              "#ed7953"
             ],
             [
              0.7777777777777778,
              "#fb9f3a"
             ],
             [
              0.8888888888888888,
              "#fdca26"
             ],
             [
              1,
              "#f0f921"
             ]
            ],
            "type": "heatmap"
           }
          ],
          "histogram": [
           {
            "marker": {
             "pattern": {
              "fillmode": "overlay",
              "size": 10,
              "solidity": 0.2
             }
            },
            "type": "histogram"
           }
          ],
          "histogram2d": [
           {
            "colorbar": {
             "outlinewidth": 0,
             "ticks": ""
            },
            "colorscale": [
             [
              0,
              "#0d0887"
             ],
             [
              0.1111111111111111,
              "#46039f"
             ],
             [
              0.2222222222222222,
              "#7201a8"
             ],
             [
              0.3333333333333333,
              "#9c179e"
             ],
             [
              0.4444444444444444,
              "#bd3786"
             ],
             [
              0.5555555555555556,
              "#d8576b"
             ],
             [
              0.6666666666666666,
              "#ed7953"
             ],
             [
              0.7777777777777778,
              "#fb9f3a"
             ],
             [
              0.8888888888888888,
              "#fdca26"
             ],
             [
              1,
              "#f0f921"
             ]
            ],
            "type": "histogram2d"
           }
          ],
          "histogram2dcontour": [
           {
            "colorbar": {
             "outlinewidth": 0,
             "ticks": ""
            },
            "colorscale": [
             [
              0,
              "#0d0887"
             ],
             [
              0.1111111111111111,
              "#46039f"
             ],
             [
              0.2222222222222222,
              "#7201a8"
             ],
             [
              0.3333333333333333,
              "#9c179e"
             ],
             [
              0.4444444444444444,
              "#bd3786"
             ],
             [
              0.5555555555555556,
              "#d8576b"
             ],
             [
              0.6666666666666666,
              "#ed7953"
             ],
             [
              0.7777777777777778,
              "#fb9f3a"
             ],
             [
              0.8888888888888888,
              "#fdca26"
             ],
             [
              1,
              "#f0f921"
             ]
            ],
            "type": "histogram2dcontour"
           }
          ],
          "mesh3d": [
           {
            "colorbar": {
             "outlinewidth": 0,
             "ticks": ""
            },
            "type": "mesh3d"
           }
          ],
          "parcoords": [
           {
            "line": {
             "colorbar": {
              "outlinewidth": 0,
              "ticks": ""
             }
            },
            "type": "parcoords"
           }
          ],
          "pie": [
           {
            "automargin": true,
            "type": "pie"
           }
          ],
          "scatter": [
           {
            "fillpattern": {
             "fillmode": "overlay",
             "size": 10,
             "solidity": 0.2
            },
            "type": "scatter"
           }
          ],
          "scatter3d": [
           {
            "line": {
             "colorbar": {
              "outlinewidth": 0,
              "ticks": ""
             }
            },
            "marker": {
             "colorbar": {
              "outlinewidth": 0,
              "ticks": ""
             }
            },
            "type": "scatter3d"
           }
          ],
          "scattercarpet": [
           {
            "marker": {
             "colorbar": {
              "outlinewidth": 0,
              "ticks": ""
             }
            },
            "type": "scattercarpet"
           }
          ],
          "scattergeo": [
           {
            "marker": {
             "colorbar": {
              "outlinewidth": 0,
              "ticks": ""
             }
            },
            "type": "scattergeo"
           }
          ],
          "scattergl": [
           {
            "marker": {
             "colorbar": {
              "outlinewidth": 0,
              "ticks": ""
             }
            },
            "type": "scattergl"
           }
          ],
          "scattermap": [
           {
            "marker": {
             "colorbar": {
              "outlinewidth": 0,
              "ticks": ""
             }
            },
            "type": "scattermap"
           }
          ],
          "scattermapbox": [
           {
            "marker": {
             "colorbar": {
              "outlinewidth": 0,
              "ticks": ""
             }
            },
            "type": "scattermapbox"
           }
          ],
          "scatterpolar": [
           {
            "marker": {
             "colorbar": {
              "outlinewidth": 0,
              "ticks": ""
             }
            },
            "type": "scatterpolar"
           }
          ],
          "scatterpolargl": [
           {
            "marker": {
             "colorbar": {
              "outlinewidth": 0,
              "ticks": ""
             }
            },
            "type": "scatterpolargl"
           }
          ],
          "scatterternary": [
           {
            "marker": {
             "colorbar": {
              "outlinewidth": 0,
              "ticks": ""
             }
            },
            "type": "scatterternary"
           }
          ],
          "surface": [
           {
            "colorbar": {
             "outlinewidth": 0,
             "ticks": ""
            },
            "colorscale": [
             [
              0,
              "#0d0887"
             ],
             [
              0.1111111111111111,
              "#46039f"
             ],
             [
              0.2222222222222222,
              "#7201a8"
             ],
             [
              0.3333333333333333,
              "#9c179e"
             ],
             [
              0.4444444444444444,
              "#bd3786"
             ],
             [
              0.5555555555555556,
              "#d8576b"
             ],
             [
              0.6666666666666666,
              "#ed7953"
             ],
             [
              0.7777777777777778,
              "#fb9f3a"
             ],
             [
              0.8888888888888888,
              "#fdca26"
             ],
             [
              1,
              "#f0f921"
             ]
            ],
            "type": "surface"
           }
          ],
          "table": [
           {
            "cells": {
             "fill": {
              "color": "#EBF0F8"
             },
             "line": {
              "color": "white"
             }
            },
            "header": {
             "fill": {
              "color": "#C8D4E3"
             },
             "line": {
              "color": "white"
             }
            },
            "type": "table"
           }
          ]
         },
         "layout": {
          "annotationdefaults": {
           "arrowcolor": "#2a3f5f",
           "arrowhead": 0,
           "arrowwidth": 1
          },
          "autotypenumbers": "strict",
          "coloraxis": {
           "colorbar": {
            "outlinewidth": 0,
            "ticks": ""
           }
          },
          "colorscale": {
           "diverging": [
            [
             0,
             "#8e0152"
            ],
            [
             0.1,
             "#c51b7d"
            ],
            [
             0.2,
             "#de77ae"
            ],
            [
             0.3,
             "#f1b6da"
            ],
            [
             0.4,
             "#fde0ef"
            ],
            [
             0.5,
             "#f7f7f7"
            ],
            [
             0.6,
             "#e6f5d0"
            ],
            [
             0.7,
             "#b8e186"
            ],
            [
             0.8,
             "#7fbc41"
            ],
            [
             0.9,
             "#4d9221"
            ],
            [
             1,
             "#276419"
            ]
           ],
           "sequential": [
            [
             0,
             "#0d0887"
            ],
            [
             0.1111111111111111,
             "#46039f"
            ],
            [
             0.2222222222222222,
             "#7201a8"
            ],
            [
             0.3333333333333333,
             "#9c179e"
            ],
            [
             0.4444444444444444,
             "#bd3786"
            ],
            [
             0.5555555555555556,
             "#d8576b"
            ],
            [
             0.6666666666666666,
             "#ed7953"
            ],
            [
             0.7777777777777778,
             "#fb9f3a"
            ],
            [
             0.8888888888888888,
             "#fdca26"
            ],
            [
             1,
             "#f0f921"
            ]
           ],
           "sequentialminus": [
            [
             0,
             "#0d0887"
            ],
            [
             0.1111111111111111,
             "#46039f"
            ],
            [
             0.2222222222222222,
             "#7201a8"
            ],
            [
             0.3333333333333333,
             "#9c179e"
            ],
            [
             0.4444444444444444,
             "#bd3786"
            ],
            [
             0.5555555555555556,
             "#d8576b"
            ],
            [
             0.6666666666666666,
             "#ed7953"
            ],
            [
             0.7777777777777778,
             "#fb9f3a"
            ],
            [
             0.8888888888888888,
             "#fdca26"
            ],
            [
             1,
             "#f0f921"
            ]
           ]
          },
          "colorway": [
           "#636efa",
           "#EF553B",
           "#00cc96",
           "#ab63fa",
           "#FFA15A",
           "#19d3f3",
           "#FF6692",
           "#B6E880",
           "#FF97FF",
           "#FECB52"
          ],
          "font": {
           "color": "#2a3f5f"
          },
          "geo": {
           "bgcolor": "white",
           "lakecolor": "white",
           "landcolor": "#E5ECF6",
           "showlakes": true,
           "showland": true,
           "subunitcolor": "white"
          },
          "hoverlabel": {
           "align": "left"
          },
          "hovermode": "closest",
          "mapbox": {
           "style": "light"
          },
          "paper_bgcolor": "white",
          "plot_bgcolor": "#E5ECF6",
          "polar": {
           "angularaxis": {
            "gridcolor": "white",
            "linecolor": "white",
            "ticks": ""
           },
           "bgcolor": "#E5ECF6",
           "radialaxis": {
            "gridcolor": "white",
            "linecolor": "white",
            "ticks": ""
           }
          },
          "scene": {
           "xaxis": {
            "backgroundcolor": "#E5ECF6",
            "gridcolor": "white",
            "gridwidth": 2,
            "linecolor": "white",
            "showbackground": true,
            "ticks": "",
            "zerolinecolor": "white"
           },
           "yaxis": {
            "backgroundcolor": "#E5ECF6",
            "gridcolor": "white",
            "gridwidth": 2,
            "linecolor": "white",
            "showbackground": true,
            "ticks": "",
            "zerolinecolor": "white"
           },
           "zaxis": {
            "backgroundcolor": "#E5ECF6",
            "gridcolor": "white",
            "gridwidth": 2,
            "linecolor": "white",
            "showbackground": true,
            "ticks": "",
            "zerolinecolor": "white"
           }
          },
          "shapedefaults": {
           "line": {
            "color": "#2a3f5f"
           }
          },
          "ternary": {
           "aaxis": {
            "gridcolor": "white",
            "linecolor": "white",
            "ticks": ""
           },
           "baxis": {
            "gridcolor": "white",
            "linecolor": "white",
            "ticks": ""
           },
           "bgcolor": "#E5ECF6",
           "caxis": {
            "gridcolor": "white",
            "linecolor": "white",
            "ticks": ""
           }
          },
          "title": {
           "x": 0.05
          },
          "xaxis": {
           "automargin": true,
           "gridcolor": "white",
           "linecolor": "white",
           "ticks": "",
           "title": {
            "standoff": 15
           },
           "zerolinecolor": "white",
           "zerolinewidth": 2
          },
          "yaxis": {
           "automargin": true,
           "gridcolor": "white",
           "linecolor": "white",
           "ticks": "",
           "title": {
            "standoff": 15
           },
           "zerolinecolor": "white",
           "zerolinewidth": 2
          }
         }
        },
        "xaxis": {
         "anchor": "y",
         "domain": [
          0,
          1
         ],
         "title": {
          "text": "index"
         }
        },
        "yaxis": {
         "anchor": "x",
         "domain": [
          0,
          1
         ],
         "title": {
          "text": "value"
         }
        }
       }
      }
     },
     "metadata": {},
     "output_type": "display_data"
    }
   ],
   "source": [
    "px.line(y=[titanic_model.best_model['history']['val_accuracy'], titanic_model.best_model['history']['val_loss']])"
   ]
  },
  {
   "cell_type": "code",
   "execution_count": null,
   "metadata": {},
   "outputs": [],
   "source": []
  }
 ],
 "metadata": {
  "kernelspec": {
   "display_name": "Python 3",
   "language": "python",
   "name": "python3"
  },
  "language_info": {
   "codemirror_mode": {
    "name": "ipython",
    "version": 3
   },
   "file_extension": ".py",
   "mimetype": "text/x-python",
   "name": "python",
   "nbconvert_exporter": "python",
   "pygments_lexer": "ipython3",
   "version": "3.9.6"
  }
 },
 "nbformat": 4,
 "nbformat_minor": 4
}
