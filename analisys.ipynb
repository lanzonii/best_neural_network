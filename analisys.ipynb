{
 "cells": [
  {
   "cell_type": "code",
   "execution_count": 1,
   "id": "0a4b815b",
   "metadata": {},
   "outputs": [
    {
     "name": "stderr",
     "output_type": "stream",
     "text": [
      "c:\\Users\\guilhermelanzoni-ieg\\OneDrive - Instituto J&F\\Documents\\tech_dados_3_ano\\data_science\\neural_networks\\TRIO\\pre_processamento_bases.py:26: FutureWarning: A value is trying to be set on a copy of a DataFrame or Series through chained assignment using an inplace method.\n",
      "The behavior will change in pandas 3.0. This inplace method will never work because the intermediate object on which we are setting values always behaves as a copy.\n",
      "\n",
      "For example, when doing 'df[col].method(value, inplace=True)', try using 'df.method({col: value}, inplace=True)' or df[col] = df[col].method(value) instead, to perform the operation inplace on the original object.\n",
      "\n",
      "\n",
      "  df_titanic[\"age\"].fillna(titanic_mediana_age, inplace= True)\n"
     ]
    }
   ],
   "source": [
    "from pre_processamento_bases import PreProcessamentoBase\n",
    "import random\n",
    "from model import ModelTraining\n",
    "import pickle as pkl\n",
    "import plotly.express as px\n",
    "\n",
    "bases = PreProcessamentoBase\n",
    "\n",
    "titanic = bases.get_base_titanic()\n",
    "cancer = bases.get_base_cancer_normalized()\n",
    "adult = bases.get_base_adult()"
   ]
  },
  {
   "cell_type": "code",
   "execution_count": null,
   "id": "d30e8485",
   "metadata": {},
   "outputs": [],
   "source": [
    "titanic_model = ModelTraining(*titanic).train(500)\n",
    "with open('titanic.pkl', 'wb') as file:\n",
    "    pkl.dump(titanic_model.best_model['model'], file)\n",
    "px.line(y=[titanic_model.best_model['history']['val_accuracy'], titanic_model.best_model['history']['val_loss']])"
   ]
  },
  {
   "cell_type": "code",
   "execution_count": null,
   "id": "86671cbc",
   "metadata": {},
   "outputs": [],
   "source": [
    "cancer_model = ModelTraining(*cancer).train(500)\n",
    "with open('cancer.pkl', 'wb') as file:\n",
    "    pkl.dump(cancer_model.best_model['model'], file)\n",
    "px.line(y=[cancer_model.best_model['history']['val_accuracy'], cancer_model.best_model['history']['val_loss']])"
   ]
  },
  {
   "cell_type": "code",
   "execution_count": null,
   "id": "0287b68b",
   "metadata": {},
   "outputs": [],
   "source": [
    "adult_model = ModelTraining(*adult).train(500)\n",
    "with open('adult.pkl', 'wb') as file:\n",
    "    pkl.dump(adult_model.best_model['model'], file)\n",
    "px.line(y=[adult_model.best_model['history']['val_accuracy'], adult_model.best_model['history']['val_loss']])"
   ]
  },
  {
   "cell_type": "code",
   "execution_count": null,
   "id": "a8ff0b70",
   "metadata": {},
   "outputs": [],
   "source": []
  }
 ],
 "metadata": {
  "kernelspec": {
   "display_name": "Python 3",
   "language": "python",
   "name": "python3"
  },
  "language_info": {
   "codemirror_mode": {
    "name": "ipython",
    "version": 3
   },
   "file_extension": ".py",
   "mimetype": "text/x-python",
   "name": "python",
   "nbconvert_exporter": "python",
   "pygments_lexer": "ipython3",
   "version": "3.11.4"
  }
 },
 "nbformat": 4,
 "nbformat_minor": 5
}
