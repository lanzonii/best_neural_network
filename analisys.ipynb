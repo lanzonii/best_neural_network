{
 "cells": [
  {
   "cell_type": "code",
   "execution_count": 1,
   "id": "0a4b815b",
   "metadata": {},
   "outputs": [
    {
     "name": "stderr",
     "output_type": "stream",
     "text": [
      "2025-09-17 14:05:41.441038: I tensorflow/core/platform/cpu_feature_guard.cc:210] This TensorFlow binary is optimized to use available CPU instructions in performance-critical operations.\n",
      "To enable the following instructions: AVX2 FMA, in other operations, rebuild TensorFlow with the appropriate compiler flags.\n",
      "/Users/guilherme.teixeira/Library/Python/3.9/lib/python/site-packages/urllib3/__init__.py:35: NotOpenSSLWarning: urllib3 v2 only supports OpenSSL 1.1.1+, currently the 'ssl' module is compiled with 'LibreSSL 2.8.3'. See: https://github.com/urllib3/urllib3/issues/3020\n",
      "  warnings.warn(\n",
      "/Users/guilherme.teixeira/Documents/best_neural_network/pre_processamento_bases.py:27: FutureWarning: A value is trying to be set on a copy of a DataFrame or Series through chained assignment using an inplace method.\n",
      "The behavior will change in pandas 3.0. This inplace method will never work because the intermediate object on which we are setting values always behaves as a copy.\n",
      "\n",
      "For example, when doing 'df[col].method(value, inplace=True)', try using 'df.method({col: value}, inplace=True)' or df[col] = df[col].method(value) instead, to perform the operation inplace on the original object.\n",
      "\n",
      "\n",
      "  df_titanic[\"age\"].fillna(titanic_mediana_age, inplace= True)\n"
     ]
    }
   ],
   "source": [
    "from pre_processamento_bases import PreProcessamentoBase\n",
    "import random\n",
    "from model import ModelTraining\n",
    "import pickle as pkl\n",
    "import plotly.express as px\n",
    "from sklearn.pipeline import Pipeline\n",
    "import joblib\n",
    "\n",
    "bases = PreProcessamentoBase\n",
    "\n",
    "titanic, titanic_preprocessor = bases.get_base_titanic()\n",
    "cancer, cancer_preprocessor = bases.get_base_cancer_normalized()\n",
    "adult, adult_preproocessor = bases.get_base_adult()"
   ]
  },
  {
   "cell_type": "code",
   "execution_count": 2,
   "id": "6d78cbef",
   "metadata": {},
   "outputs": [],
   "source": [
    "def serialize(model_name: str, model, preprocessing):\n",
    "    pipeline = Pipeline([\n",
    "        ('preprocessor', preprocessing),\n",
    "        ('classifier', model.best_model['model'])\n",
    "    ])\n",
    "    joblib.dump(pipeline, f'{model_name}.pkl')"
   ]
  },
  {
   "cell_type": "code",
   "execution_count": null,
   "id": "d30e8485",
   "metadata": {},
   "outputs": [
    {
     "name": "stdout",
     "output_type": "stream",
     "text": [
      "\n",
      "1 camada(s), 1 neurônio(s):\n",
      "      sigmoid\n",
      "          accuracy:  0.7921348214149475\n",
      "      softplus\n",
      "          accuracy:  0.7977527976036072\n",
      "      relu\n",
      "          accuracy:  0.7752808928489685\n",
      "      tanh\n",
      "          accuracy:  0.8033707737922668\n",
      "\n",
      "     best_activation:  tanh\n",
      "\n",
      "1 camada(s), 2 neurônio(s):\n",
      "      sigmoid\n",
      "          accuracy:  0.8089887499809265\n",
      "      softplus\n",
      "          accuracy:  0.8033707737922668\n"
     ]
    }
   ],
   "source": [
    "titanic_model = ModelTraining(*titanic).train(100)\n",
    "with open('titanic.pkl', 'wb') as file:\n",
    "    pkl.dump(titanic_model.best_model['model'], file)\n",
    "px.line(y=[titanic_model.best_model['history']['val_accuracy'], titanic_model.best_model['history']['val_loss']])"
   ]
  },
  {
   "cell_type": "code",
   "execution_count": null,
   "id": "86671cbc",
   "metadata": {},
   "outputs": [
    {
     "name": "stdout",
     "output_type": "stream",
     "text": [
      "accuracy:  0.6228070259094238\n",
      "accuracy:  0.6228070259094238\n",
      "accuracy:  0.6228070259094238\n",
      "accuracy:  0.6228070259094238\n",
      "accuracy:  0.6228070259094238\n",
      "accuracy:  0.6228070259094238\n",
      "accuracy:  0.6228070259094238\n",
      "accuracy:  0.6228070259094238\n",
      "accuracy:  0.6228070259094238\n",
      "accuracy:  0.6228070259094238\n",
      "accuracy:  0.6228070259094238\n",
      "accuracy:  0.6228070259094238\n"
     ]
    }
   ],
   "source": [
    "cancer_model = ModelTraining(*cancer).train(100)\n",
    "with open('cancer.pkl', 'wb') as file:\n",
    "    pkl.dump(cancer_model.best_model['model'], file)\n",
    "px.line(y=[cancer_model.best_model['history']['val_accuracy'], cancer_model.best_model['history']['val_loss']])"
   ]
  },
  {
   "cell_type": "code",
   "execution_count": null,
   "id": "0287b68b",
   "metadata": {},
   "outputs": [
    {
     "ename": "ValueError",
     "evalue": "Invalid dtype: object",
     "output_type": "error",
     "traceback": [
      "\u001b[1;31m---------------------------------------------------------------------------\u001b[0m",
      "\u001b[1;31mValueError\u001b[0m                                Traceback (most recent call last)",
      "Cell \u001b[1;32mIn[5], line 1\u001b[0m\n\u001b[1;32m----> 1\u001b[0m adult_model \u001b[38;5;241m=\u001b[39m \u001b[43mModelTraining\u001b[49m\u001b[43m(\u001b[49m\u001b[38;5;241;43m*\u001b[39;49m\u001b[43madult\u001b[49m\u001b[43m)\u001b[49m\u001b[38;5;241;43m.\u001b[39;49m\u001b[43mtrain\u001b[49m\u001b[43m(\u001b[49m\u001b[38;5;241;43m500\u001b[39;49m\u001b[43m)\u001b[49m\n\u001b[0;32m      2\u001b[0m \u001b[38;5;28;01mwith\u001b[39;00m \u001b[38;5;28mopen\u001b[39m(\u001b[38;5;124m'\u001b[39m\u001b[38;5;124madult.pkl\u001b[39m\u001b[38;5;124m'\u001b[39m, \u001b[38;5;124m'\u001b[39m\u001b[38;5;124mwb\u001b[39m\u001b[38;5;124m'\u001b[39m) \u001b[38;5;28;01mas\u001b[39;00m file:\n\u001b[0;32m      3\u001b[0m     pkl\u001b[38;5;241m.\u001b[39mdump(adult_model\u001b[38;5;241m.\u001b[39mbest_model[\u001b[38;5;124m'\u001b[39m\u001b[38;5;124mmodel\u001b[39m\u001b[38;5;124m'\u001b[39m], file)\n",
      "File \u001b[1;32mc:\\Users\\guilhermelanzoni-ieg\\OneDrive - Instituto J&F\\Documents\\tech_dados_3_ano\\data_science\\neural_networks\\TRIO\\model.py:97\u001b[0m, in \u001b[0;36mModelTraining.train\u001b[1;34m(self, epochs)\u001b[0m\n\u001b[0;32m     94\u001b[0m     \u001b[38;5;28;01mfor\u001b[39;00m neuron \u001b[38;5;129;01min\u001b[39;00m neurons:\n\u001b[0;32m     95\u001b[0m         model\u001b[38;5;241m.\u001b[39madd(neuron)\n\u001b[1;32m---> 97\u001b[0m activation \u001b[38;5;241m=\u001b[39m \u001b[38;5;28;43mself\u001b[39;49m\u001b[38;5;241;43m.\u001b[39;49m\u001b[43mbest_activation\u001b[49m\u001b[43m(\u001b[49m\u001b[43mmodel\u001b[49m\u001b[43m,\u001b[49m\u001b[43m \u001b[49m\u001b[43msize\u001b[49m\u001b[43m)\u001b[49m\n\u001b[0;32m     98\u001b[0m model\u001b[38;5;241m.\u001b[39madd(Dense(size, activation\u001b[38;5;241m=\u001b[39mactivation, kernel_initializer\u001b[38;5;241m=\u001b[39mGlorotUniform(seed\u001b[38;5;241m=\u001b[39m\u001b[38;5;241m42\u001b[39m)))\n\u001b[0;32m    100\u001b[0m model\u001b[38;5;241m.\u001b[39madd(Dense(\u001b[38;5;241m1\u001b[39m, activation\u001b[38;5;241m=\u001b[39m\u001b[38;5;124m'\u001b[39m\u001b[38;5;124msigmoid\u001b[39m\u001b[38;5;124m'\u001b[39m, kernel_initializer\u001b[38;5;241m=\u001b[39mGlorotUniform(seed\u001b[38;5;241m=\u001b[39m\u001b[38;5;241m42\u001b[39m)))\n",
      "File \u001b[1;32mc:\\Users\\guilhermelanzoni-ieg\\OneDrive - Instituto J&F\\Documents\\tech_dados_3_ano\\data_science\\neural_networks\\TRIO\\model.py:37\u001b[0m, in \u001b[0;36mModelTraining.best_activation\u001b[1;34m(self, model, neuron_amount)\u001b[0m\n\u001b[0;32m     33\u001b[0m model\u001b[38;5;241m.\u001b[39madd(Dense(\u001b[38;5;241m1\u001b[39m, activation\u001b[38;5;241m=\u001b[39m\u001b[38;5;124m'\u001b[39m\u001b[38;5;124msigmoid\u001b[39m\u001b[38;5;124m'\u001b[39m, kernel_initializer\u001b[38;5;241m=\u001b[39mGlorotUniform(seed\u001b[38;5;241m=\u001b[39m\u001b[38;5;241m42\u001b[39m)))\n\u001b[0;32m     35\u001b[0m model\u001b[38;5;241m.\u001b[39mcompile(optimizer\u001b[38;5;241m=\u001b[39m\u001b[38;5;124m'\u001b[39m\u001b[38;5;124madam\u001b[39m\u001b[38;5;124m'\u001b[39m, loss\u001b[38;5;241m=\u001b[39m\u001b[38;5;124m'\u001b[39m\u001b[38;5;124mbinary_crossentropy\u001b[39m\u001b[38;5;124m'\u001b[39m, metrics\u001b[38;5;241m=\u001b[39m[\u001b[38;5;124m'\u001b[39m\u001b[38;5;124maccuracy\u001b[39m\u001b[38;5;124m'\u001b[39m])\n\u001b[1;32m---> 37\u001b[0m history \u001b[38;5;241m=\u001b[39m \u001b[43mmodel\u001b[49m\u001b[38;5;241;43m.\u001b[39;49m\u001b[43mfit\u001b[49m\u001b[43m(\u001b[49m\u001b[38;5;28;43mself\u001b[39;49m\u001b[38;5;241;43m.\u001b[39;49m\u001b[43mx_train\u001b[49m\u001b[43m,\u001b[49m\u001b[43m \u001b[49m\u001b[38;5;28;43mself\u001b[39;49m\u001b[38;5;241;43m.\u001b[39;49m\u001b[43my_train\u001b[49m\u001b[43m,\u001b[49m\u001b[43m \u001b[49m\u001b[43mepochs\u001b[49m\u001b[38;5;241;43m=\u001b[39;49m\u001b[38;5;28;43mself\u001b[39;49m\u001b[38;5;241;43m.\u001b[39;49m\u001b[43mepochs\u001b[49m\u001b[43m,\u001b[49m\u001b[43m \u001b[49m\u001b[43mcallbacks\u001b[49m\u001b[38;5;241;43m=\u001b[39;49m\u001b[43m[\u001b[49m\u001b[38;5;28;43mself\u001b[39;49m\u001b[38;5;241;43m.\u001b[39;49m\u001b[43mearly_stopping\u001b[49m\u001b[43m]\u001b[49m\u001b[43m,\u001b[49m\u001b[43m \u001b[49m\u001b[43mvalidation_data\u001b[49m\u001b[38;5;241;43m=\u001b[39;49m\u001b[43m(\u001b[49m\u001b[38;5;28;43mself\u001b[39;49m\u001b[38;5;241;43m.\u001b[39;49m\u001b[43mx_test\u001b[49m\u001b[43m,\u001b[49m\u001b[43m \u001b[49m\u001b[38;5;28;43mself\u001b[39;49m\u001b[38;5;241;43m.\u001b[39;49m\u001b[43my_test\u001b[49m\u001b[43m)\u001b[49m\u001b[43m,\u001b[49m\u001b[43m \u001b[49m\u001b[43mverbose\u001b[49m\u001b[38;5;241;43m=\u001b[39;49m\u001b[38;5;241;43m0\u001b[39;49m\u001b[43m)\u001b[49m\n\u001b[0;32m     39\u001b[0m loss, accuracy \u001b[38;5;241m=\u001b[39m model\u001b[38;5;241m.\u001b[39mevaluate(\u001b[38;5;28mself\u001b[39m\u001b[38;5;241m.\u001b[39mx_test, \u001b[38;5;28mself\u001b[39m\u001b[38;5;241m.\u001b[39my_test, verbose\u001b[38;5;241m=\u001b[39m\u001b[38;5;241m0\u001b[39m)\n\u001b[0;32m     41\u001b[0m activation_accuracies[activation] \u001b[38;5;241m=\u001b[39m accuracy\n",
      "File \u001b[1;32m~\\AppData\\Roaming\\Python\\Python311\\site-packages\\keras\\src\\utils\\traceback_utils.py:122\u001b[0m, in \u001b[0;36mfilter_traceback.<locals>.error_handler\u001b[1;34m(*args, **kwargs)\u001b[0m\n\u001b[0;32m    119\u001b[0m     filtered_tb \u001b[38;5;241m=\u001b[39m _process_traceback_frames(e\u001b[38;5;241m.\u001b[39m__traceback__)\n\u001b[0;32m    120\u001b[0m     \u001b[38;5;66;03m# To get the full stack trace, call:\u001b[39;00m\n\u001b[0;32m    121\u001b[0m     \u001b[38;5;66;03m# `keras.config.disable_traceback_filtering()`\u001b[39;00m\n\u001b[1;32m--> 122\u001b[0m     \u001b[38;5;28;01mraise\u001b[39;00m e\u001b[38;5;241m.\u001b[39mwith_traceback(filtered_tb) \u001b[38;5;28;01mfrom\u001b[39;00m \u001b[38;5;28;01mNone\u001b[39;00m\n\u001b[0;32m    123\u001b[0m \u001b[38;5;28;01mfinally\u001b[39;00m:\n\u001b[0;32m    124\u001b[0m     \u001b[38;5;28;01mdel\u001b[39;00m filtered_tb\n",
      "File \u001b[1;32m~\\AppData\\Roaming\\Python\\Python311\\site-packages\\optree\\ops.py:766\u001b[0m, in \u001b[0;36mtree_map\u001b[1;34m(func, tree, is_leaf, none_is_leaf, namespace, *rests)\u001b[0m\n\u001b[0;32m    764\u001b[0m leaves, treespec \u001b[38;5;241m=\u001b[39m _C\u001b[38;5;241m.\u001b[39mflatten(tree, is_leaf, none_is_leaf, namespace)\n\u001b[0;32m    765\u001b[0m flat_args \u001b[38;5;241m=\u001b[39m [leaves] \u001b[38;5;241m+\u001b[39m [treespec\u001b[38;5;241m.\u001b[39mflatten_up_to(r) \u001b[38;5;28;01mfor\u001b[39;00m r \u001b[38;5;129;01min\u001b[39;00m rests]\n\u001b[1;32m--> 766\u001b[0m \u001b[38;5;28;01mreturn\u001b[39;00m \u001b[43mtreespec\u001b[49m\u001b[38;5;241;43m.\u001b[39;49m\u001b[43munflatten\u001b[49m\u001b[43m(\u001b[49m\u001b[38;5;28;43mmap\u001b[39;49m\u001b[43m(\u001b[49m\u001b[43mfunc\u001b[49m\u001b[43m,\u001b[49m\u001b[43m \u001b[49m\u001b[38;5;241;43m*\u001b[39;49m\u001b[43mflat_args\u001b[49m\u001b[43m)\u001b[49m\u001b[43m)\u001b[49m\n",
      "\u001b[1;31mValueError\u001b[0m: Invalid dtype: object"
     ]
    }
   ],
   "source": [
    "adult_model = ModelTraining(*adult).train(100)\n",
    "with open('adult.pkl', 'wb') as file:\n",
    "    pkl.dump(adult_model.best_model['model'], file)\n",
    "px.line(y=[adult_model.best_model['history']['val_accuracy'], adult_model.best_model['history']['val_loss']])"
   ]
  }
 ],
 "metadata": {
  "kernelspec": {
   "display_name": "Python 3",
   "language": "python",
   "name": "python3"
  },
  "language_info": {
   "codemirror_mode": {
    "name": "ipython",
    "version": 3
   },
   "file_extension": ".py",
   "mimetype": "text/x-python",
   "name": "python",
   "nbconvert_exporter": "python",
   "pygments_lexer": "ipython3",
   "version": "3.9.6"
  }
 },
 "nbformat": 4,
 "nbformat_minor": 5
}
